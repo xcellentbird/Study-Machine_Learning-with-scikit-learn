{
  "nbformat": 4,
  "nbformat_minor": 0,
  "metadata": {
    "colab": {
      "name": "혼공머신_패션MNIST.ipynb",
      "provenance": [],
      "collapsed_sections": [],
      "authorship_tag": "ABX9TyPjGBm/kRKPcWBG9Hz2iiFg",
      "include_colab_link": true
    },
    "kernelspec": {
      "name": "python3",
      "display_name": "Python 3"
    }
  },
  "cells": [
    {
      "cell_type": "markdown",
      "metadata": {
        "id": "view-in-github",
        "colab_type": "text"
      },
      "source": [
        "<a href=\"https://colab.research.google.com/github/xcellentbird/Study-Deep_Learning/blob/main/%ED%98%BC%EA%B3%B5%EB%A8%B8%EC%8B%A0_%ED%8C%A8%EC%85%98MNIST.ipynb\" target=\"_parent\"><img src=\"https://colab.research.google.com/assets/colab-badge.svg\" alt=\"Open In Colab\"/></a>"
      ]
    },
    {
      "cell_type": "code",
      "metadata": {
        "id": "8H7hn0-NOR4T",
        "colab": {
          "base_uri": "https://localhost:8080/"
        },
        "outputId": "dc540e96-5223-4c0b-8e7d-c4d9d9b4067f"
      },
      "source": [
        "from tensorflow import keras\n",
        "\n",
        "#친전하게 트레인 셋과 테스트 셋을 나눠주셨다.\n",
        "(train_input, train_target),(test_input, test_target) = keras.datasets.fashion_mnist.load_data()"
      ],
      "execution_count": 2,
      "outputs": [
        {
          "output_type": "stream",
          "text": [
            "Downloading data from https://storage.googleapis.com/tensorflow/tf-keras-datasets/train-labels-idx1-ubyte.gz\n",
            "32768/29515 [=================================] - 0s 0us/step\n",
            "Downloading data from https://storage.googleapis.com/tensorflow/tf-keras-datasets/train-images-idx3-ubyte.gz\n",
            "26427392/26421880 [==============================] - 0s 0us/step\n",
            "Downloading data from https://storage.googleapis.com/tensorflow/tf-keras-datasets/t10k-labels-idx1-ubyte.gz\n",
            "8192/5148 [===============================================] - 0s 0us/step\n",
            "Downloading data from https://storage.googleapis.com/tensorflow/tf-keras-datasets/t10k-images-idx3-ubyte.gz\n",
            "4423680/4422102 [==============================] - 0s 0us/step\n"
          ],
          "name": "stdout"
        }
      ]
    },
    {
      "cell_type": "code",
      "metadata": {
        "colab": {
          "base_uri": "https://localhost:8080/"
        },
        "id": "Kcv6LqM2QCKF",
        "outputId": "26eda957-c6dd-4593-da21-a2fef6dada28"
      },
      "source": [
        "#트레인 셋에는 28 x 28크기로 된 60000장의 데이터가 있다. 타겟은 분류값 60000개\n",
        "print(train_input.shape, train_target.shape)\n",
        "\n",
        "#테스트 셋에도 역시 28 x 28 크기로 된 10000장의 사진이 있고, 타겟에도 분류값 10000개가 있다.\n",
        "print(test_input.shape, test_target.shape)\n",
        "\n",
        "# 자, 이제 CNN을 이용하여 트레인 세트로 학습시키고(인풋과 타겟의 쌍을 지도 학습), 테스트 셋으로 학습 결과를 확인해본다(테스트 인풋을 주었을 때, 인풋 타겟값이 정확히 나오면 정답 인정!)."
      ],
      "execution_count": 3,
      "outputs": [
        {
          "output_type": "stream",
          "text": [
            "(60000, 28, 28) (60000,)\n",
            "(10000, 28, 28) (10000,)\n"
          ],
          "name": "stdout"
        }
      ]
    },
    {
      "cell_type": "code",
      "metadata": {
        "colab": {
          "base_uri": "https://localhost:8080/",
          "height": 317
        },
        "id": "8oKztcavRAHW",
        "outputId": "71f20c2f-b4f4-4a8a-9825-aa2074078a90"
      },
      "source": [
        "import matplotlib.pyplot as plt\n",
        "\n",
        "# 이미지를 한번 확인해보자.\n",
        "# 5개의 plot을 만들고, 데이터 크기만큼 보여주는 걸로\n",
        "fig, axs = plt.subplots(1, 5, figsize=(28, 28))\n",
        "for i in range(5):\n",
        "  axs[i].imshow(train_input[i])\n",
        "plt.show()"
      ],
      "execution_count": 4,
      "outputs": [
        {
          "output_type": "display_data",
          "data": {
            "image/png": "[encoded data removed]",
            "text/plain": [
              "<Figure size 2016x2016 with 5 Axes>"
            ]
          },
          "metadata": {
            "tags": [],
            "needs_background": "light"
          }
        }
      ]
    },
    {
      "cell_type": "code",
      "metadata": {
        "colab": {
          "base_uri": "https://localhost:8080/"
        },
        "id": "ccE-YHi6Tlvx",
        "outputId": "d1159ec3-eee5-499a-fe9d-c7079ca8f93c"
      },
      "source": [
        "# 255 픽셀을 0~1 사이의 값으로 정규화\n",
        "train_scaled = train_input / 255.0\n",
        "print(train_scaled.shape)\n",
        "\n",
        "# 정규화된 인풋 학습 데이터를 28*28개의 열로(즉, 2차원의 이미지를 1차원 28*28=784선으로) 나열한다.\n",
        "train_scaled = train_scaled.reshape(-1, 28*28)\n",
        "print(train_scaled.shape)"
      ],
      "execution_count": 5,
      "outputs": [
        {
          "output_type": "stream",
          "text": [
            "(60000, 28, 28)\n",
            "(60000, 784)\n"
          ],
          "name": "stdout"
        }
      ]
    },
    {
      "cell_type": "code",
      "metadata": {
        "colab": {
          "base_uri": "https://localhost:8080/"
        },
        "id": "h6RPAQ-ZXElL",
        "outputId": "2660760d-c050-48a7-9634-f24abe6e0380"
      },
      "source": [
        "import numpy as np\n",
        "# 학습 타겟이, 즉, 분류값(레이블)이 10개가 있고, 각각 6000개씩 데이터가 있는 것을 확인할 수 있다.\n",
        "np.unique(train_target, return_counts=True)"
      ],
      "execution_count": 6,
      "outputs": [
        {
          "output_type": "execute_result",
          "data": {
            "text/plain": [
              "(array([0, 1, 2, 3, 4, 5, 6, 7, 8, 9], dtype=uint8),\n",
              " array([6000, 6000, 6000, 6000, 6000, 6000, 6000, 6000, 6000, 6000]))"
            ]
          },
          "metadata": {
            "tags": []
          },
          "execution_count": 6
        }
      ]
    },
    {
      "cell_type": "code",
      "metadata": {
        "colab": {
          "base_uri": "https://localhost:8080/"
        },
        "id": "ILMkqZWzWCTx",
        "outputId": "49d1c7f7-db2c-43ae-dd4f-f38be0c01b05"
      },
      "source": [
        "from sklearn.model_selection import cross_validate\n",
        "from sklearn.linear_model import SGDClassifier\n",
        "\n",
        "# 먼저 다 까먹은 SGDClassifier에 대해서 설명하겠다...(다 까먹었다...)\n",
        "# SGD는 확률적 경사하강법의 준말로(Stochastic Gradien Descent) 선형모델을 구현한다.\n",
        "# 그냥 기울기 따라서 움직이는 것인데, 인자값을 잘못 설정하면, 구덩텅이 빠져서 타겟으로 수렴 안 할 수도 있다고\n",
        "# 이제서야 기억이 나는데, 이번엔 인자값을 설명하도록\n",
        "# loss(손실함수 def='hinge'이지만 여기에선 로그함수), max_iter(작업 수(반복 횟수)), random_state(난수 seed) \n",
        "sc = SGDClassifier(loss='log', max_iter=10, random_state=42)\n",
        "scores = cross_validate(sc, train_scaled, train_target, n_jobs=-1)\n",
        "\n",
        "# 분류기만 사용했을 때의 평균 점수\n",
        "print(scores)\n",
        "print(np.mean(scores['test_score']))"
      ],
      "execution_count": 7,
      "outputs": [
        {
          "output_type": "stream",
          "text": [
            "{'fit_time': array([22.57596421, 22.32439661, 22.12707448, 21.97570705, 14.42460394]), 'score_time': array([0.05256844, 0.04057717, 0.05025172, 0.10388541, 0.03658533]), 'test_score': array([0.83116667, 0.83033333, 0.82441667, 0.83975   , 0.831     ])}\n",
            "0.8313333333333333\n"
          ],
          "name": "stdout"
        }
      ]
    },
    {
      "cell_type": "code",
      "metadata": {
        "id": "l7pavw022Ng8"
      },
      "source": [
        "import tensorflow as tf\n",
        "from tensorflow import keras\n",
        "from sklearn.model_selection import train_test_split"
      ],
      "execution_count": 8,
      "outputs": []
    },
    {
      "cell_type": "code",
      "metadata": {
        "colab": {
          "base_uri": "https://localhost:8080/"
        },
        "id": "-Y9ixxUY2YCd",
        "outputId": "4a48e62f-a32c-4a5c-8491-7bae3f3e694f"
      },
      "source": [
        "# 스케일된 트레이닝 데이터와 타겟을 검증셋을 위해 20프로 설정해놓는다.\n",
        "train_scaled, val_scaled, train_target, val_target = train_test_split(train_scaled, train_target, test_size=0.2, random_state=42)\n",
        "\n",
        "print(train_scaled.shape, train_target.shape)\n",
        "print(val_scaled.shape, val_target.shape)"
      ],
      "execution_count": 9,
      "outputs": [
        {
          "output_type": "stream",
          "text": [
            "(48000, 784) (48000,)\n",
            "(12000, 784) (12000,)\n"
          ],
          "name": "stdout"
        }
      ]
    },
    {
      "cell_type": "code",
      "metadata": {
        "colab": {
          "base_uri": "https://localhost:8080/"
        },
        "id": "PzIcgnNg3blv",
        "outputId": "324bb05e-8e7e-4037-e4cf-bfe16b182627"
      },
      "source": [
        "# 이전에 일차원으로 28*28 크기의 데이터가 들어가는 10개의 뉴런을 만들고 출력단에는 softmax 설정한\n",
        "# Dense (완전 연결층)을 만든다. 10개의 뉴런인 이유는 10개의 분류 레이블이 있기 때문\n",
        "dense = keras.layers.Dense(10, activation='softmax', input_shape=(784,))\n",
        "# dense 층을 이용하여 Sequential 클래스를 통해 신경망 모델로 만든다.\n",
        "model = keras.Sequential(dense)\n",
        "\n",
        "# 다중 분류 손실 함수 적용. 도표를 출력하여 확인하기 위해 metrics 매개변수 사용\n",
        "model.compile(loss='sparse_categorical_crossentropy')\n",
        "print(train_target[:10])\n"
      ],
      "execution_count": 12,
      "outputs": [
        {
          "output_type": "stream",
          "text": [
            "[7 3 5 8 6 9 3 3 9 9]\n"
          ],
          "name": "stdout"
        }
      ]
    },
    {
      "cell_type": "code",
      "metadata": {
        "colab": {
          "base_uri": "https://localhost:8080/",
          "height": 1000
        },
        "id": "1TSBetrV3z5v",
        "outputId": "704c1705-9876-4339-a570-3fde49603065"
      },
      "source": [
        "# epoch반복을 5회로 정하고 학습 및 평가\n",
        "epoch_list = list(range(2, 11, 2))\n",
        "score = []\n",
        "for epoch in epoch_list:\n",
        "  model.fit(train_scaled, train_target, epochs=epoch)\n",
        "  score.append(model.evaluate(val_scaled, val_target))\n",
        "\n",
        "plt.plot(epoch_list, score)\n",
        "plt.show()"
      ],
      "execution_count": 18,
      "outputs": [
        {
          "output_type": "stream",
          "text": [
            "Epoch 1/2\n",
            "1500/1500 [==============================] - 2s 1ms/step - loss: 0.4054\n",
            "Epoch 2/2\n",
            "1500/1500 [==============================] - 2s 1ms/step - loss: 0.4040\n",
            "375/375 [==============================] - 0s 902us/step - loss: 0.4879\n",
            "Epoch 1/4\n",
            "1500/1500 [==============================] - 2s 1ms/step - loss: 0.4065\n",
            "Epoch 2/4\n",
            "1500/1500 [==============================] - 2s 1ms/step - loss: 0.4047\n",
            "Epoch 3/4\n",
            "1500/1500 [==============================] - 2s 1ms/step - loss: 0.4042\n",
            "Epoch 4/4\n",
            "1500/1500 [==============================] - 2s 1ms/step - loss: 0.4052\n",
            "375/375 [==============================] - 0s 919us/step - loss: 0.4746\n",
            "Epoch 1/6\n",
            "1500/1500 [==============================] - 2s 1ms/step - loss: 0.4054\n",
            "Epoch 2/6\n",
            "1500/1500 [==============================] - 2s 1ms/step - loss: 0.4053\n",
            "Epoch 3/6\n",
            "1500/1500 [==============================] - 2s 1ms/step - loss: 0.4051\n",
            "Epoch 4/6\n",
            "1500/1500 [==============================] - 2s 1ms/step - loss: 0.4064\n",
            "Epoch 5/6\n",
            "1500/1500 [==============================] - 2s 1ms/step - loss: 0.4053\n",
            "Epoch 6/6\n",
            "1500/1500 [==============================] - 2s 1ms/step - loss: 0.4049\n",
            "375/375 [==============================] - 0s 986us/step - loss: 0.4809\n",
            "Epoch 1/8\n",
            "1500/1500 [==============================] - 2s 1ms/step - loss: 0.4049\n",
            "Epoch 2/8\n",
            "1500/1500 [==============================] - 2s 1ms/step - loss: 0.4057\n",
            "Epoch 3/8\n",
            "1500/1500 [==============================] - 2s 1ms/step - loss: 0.4049\n",
            "Epoch 4/8\n",
            "1500/1500 [==============================] - 2s 1ms/step - loss: 0.4053\n",
            "Epoch 5/8\n",
            "1500/1500 [==============================] - 2s 1ms/step - loss: 0.4052\n",
            "Epoch 6/8\n",
            "1500/1500 [==============================] - 2s 1ms/step - loss: 0.4051\n",
            "Epoch 7/8\n",
            "1500/1500 [==============================] - 2s 1ms/step - loss: 0.4057\n",
            "Epoch 8/8\n",
            "1500/1500 [==============================] - 2s 1ms/step - loss: 0.4058\n",
            "375/375 [==============================] - 0s 994us/step - loss: 0.4891\n",
            "Epoch 1/10\n",
            "1500/1500 [==============================] - 2s 1ms/step - loss: 0.4050\n",
            "Epoch 2/10\n",
            "1500/1500 [==============================] - 2s 1ms/step - loss: 0.4051\n",
            "Epoch 3/10\n",
            "1500/1500 [==============================] - 2s 1ms/step - loss: 0.4056\n",
            "Epoch 4/10\n",
            "1500/1500 [==============================] - 2s 1ms/step - loss: 0.4055\n",
            "Epoch 5/10\n",
            "1500/1500 [==============================] - 2s 1ms/step - loss: 0.4048\n",
            "Epoch 6/10\n",
            "1500/1500 [==============================] - 2s 1ms/step - loss: 0.4048\n",
            "Epoch 7/10\n",
            "1500/1500 [==============================] - 2s 1ms/step - loss: 0.4040\n",
            "Epoch 8/10\n",
            "1500/1500 [==============================] - 2s 1ms/step - loss: 0.4057\n",
            "Epoch 9/10\n",
            "1500/1500 [==============================] - 2s 1ms/step - loss: 0.4056\n",
            "Epoch 10/10\n",
            "1500/1500 [==============================] - 2s 1ms/step - loss: 0.4040\n",
            "375/375 [==============================] - 0s 936us/step - loss: 0.4910\n"
          ],
          "name": "stdout"
        },
        {
          "output_type": "display_data",
          "data": {
            "image/png": "[encoded data removed]",
            "text/plain": [
              "<Figure size 432x288 with 1 Axes>"
            ]
          },
          "metadata": {
            "tags": [],
            "needs_background": "light"
          }
        }
      ]
    },
    {
      "cell_type": "code",
      "metadata": {
        "id": "kAuHxqTi34jm"
      },
      "source": [
        ""
      ],
      "execution_count": null,
      "outputs": []
    }
  ]
}