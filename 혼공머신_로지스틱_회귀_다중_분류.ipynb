{
  "nbformat": 4,
  "nbformat_minor": 0,
  "metadata": {
    "colab": {
      "name": "로지스틱 회귀 다중 분류.ipynb",
      "provenance": [],
      "authorship_tag": "ABX9TyMSkP/KCJ8CgXpUrDl/EfNe",
      "include_colab_link": true
    },
    "kernelspec": {
      "name": "python3",
      "display_name": "Python 3"
    },
    "language_info": {
      "name": "python"
    }
  },
  "cells": [
    {
      "cell_type": "markdown",
      "metadata": {
        "id": "view-in-github",
        "colab_type": "text"
      },
      "source": [
        "<a href=\"https://colab.research.google.com/github/xcellentbird/Study-Deep_Learning/blob/main/%EB%A1%9C%EC%A7%80%EC%8A%A4%ED%8B%B1_%ED%9A%8C%EA%B7%80_%EB%8B%A4%EC%A4%91_%EB%B6%84%EB%A5%98.ipynb\" target=\"_parent\"><img src=\"https://colab.research.google.com/assets/colab-badge.svg\" alt=\"Open In Colab\"/></a>"
      ]
    },
    {
      "cell_type": "code",
      "metadata": {
        "colab": {
          "base_uri": "https://localhost:8080/",
          "height": 204
        },
        "id": "YtOtPOhr-5bf",
        "outputId": "f303fc5e-40ca-4527-ee1b-59b3435ff75c"
      },
      "source": [
        "import pandas as pd\n",
        "fish = pd.read_csv('http://bit.ly/fish_csv')\n",
        "\n",
        "# 5개의 특성이 존재한다.\n",
        "fish.head()"
      ],
      "execution_count": 3,
      "outputs": [
        {
          "output_type": "execute_result",
          "data": {
            "text/html": [
              "<div>\n",
              "<style scoped>\n",
              "    .dataframe tbody tr th:only-of-type {\n",
              "        vertical-align: middle;\n",
              "    }\n",
              "\n",
              "    .dataframe tbody tr th {\n",
              "        vertical-align: top;\n",
              "    }\n",
              "\n",
              "    .dataframe thead th {\n",
              "        text-align: right;\n",
              "    }\n",
              "</style>\n",
              "<table border=\"1\" class=\"dataframe\">\n",
              "  <thead>\n",
              "    <tr style=\"text-align: right;\">\n",
              "      <th></th>\n",
              "      <th>Species</th>\n",
              "      <th>Weight</th>\n",
              "      <th>Length</th>\n",
              "      <th>Diagonal</th>\n",
              "      <th>Height</th>\n",
              "      <th>Width</th>\n",
              "    </tr>\n",
              "  </thead>\n",
              "  <tbody>\n",
              "    <tr>\n",
              "      <th>0</th>\n",
              "      <td>Bream</td>\n",
              "      <td>242.0</td>\n",
              "      <td>25.4</td>\n",
              "      <td>30.0</td>\n",
              "      <td>11.5200</td>\n",
              "      <td>4.0200</td>\n",
              "    </tr>\n",
              "    <tr>\n",
              "      <th>1</th>\n",
              "      <td>Bream</td>\n",
              "      <td>290.0</td>\n",
              "      <td>26.3</td>\n",
              "      <td>31.2</td>\n",
              "      <td>12.4800</td>\n",
              "      <td>4.3056</td>\n",
              "    </tr>\n",
              "    <tr>\n",
              "      <th>2</th>\n",
              "      <td>Bream</td>\n",
              "      <td>340.0</td>\n",
              "      <td>26.5</td>\n",
              "      <td>31.1</td>\n",
              "      <td>12.3778</td>\n",
              "      <td>4.6961</td>\n",
              "    </tr>\n",
              "    <tr>\n",
              "      <th>3</th>\n",
              "      <td>Bream</td>\n",
              "      <td>363.0</td>\n",
              "      <td>29.0</td>\n",
              "      <td>33.5</td>\n",
              "      <td>12.7300</td>\n",
              "      <td>4.4555</td>\n",
              "    </tr>\n",
              "    <tr>\n",
              "      <th>4</th>\n",
              "      <td>Bream</td>\n",
              "      <td>430.0</td>\n",
              "      <td>29.0</td>\n",
              "      <td>34.0</td>\n",
              "      <td>12.4440</td>\n",
              "      <td>5.1340</td>\n",
              "    </tr>\n",
              "  </tbody>\n",
              "</table>\n",
              "</div>"
            ],
            "text/plain": [
              "  Species  Weight  Length  Diagonal   Height   Width\n",
              "0   Bream   242.0    25.4      30.0  11.5200  4.0200\n",
              "1   Bream   290.0    26.3      31.2  12.4800  4.3056\n",
              "2   Bream   340.0    26.5      31.1  12.3778  4.6961\n",
              "3   Bream   363.0    29.0      33.5  12.7300  4.4555\n",
              "4   Bream   430.0    29.0      34.0  12.4440  5.1340"
            ]
          },
          "metadata": {
            "tags": []
          },
          "execution_count": 3
        }
      ]
    },
    {
      "cell_type": "code",
      "metadata": {
        "colab": {
          "base_uri": "https://localhost:8080/"
        },
        "id": "SP4N09dVAnDw",
        "outputId": "093128d7-27b9-4f26-e32c-e11e0fb6f30d"
      },
      "source": [
        "print(pd.unique(fish['Species']))\n",
        "# 그리고 7개의 label이 존재"
      ],
      "execution_count": 5,
      "outputs": [
        {
          "output_type": "stream",
          "text": [
            "['Bream' 'Roach' 'Whitefish' 'Parkki' 'Perch' 'Pike' 'Smelt']\n"
          ],
          "name": "stdout"
        }
      ]
    },
    {
      "cell_type": "code",
      "metadata": {
        "id": "H8JrhTLGAxx7"
      },
      "source": [
        "fish_input = fish[['Weight', 'Length', 'Diagonal', 'Height', 'Width']].to_numpy()\n",
        "fish_target = fish['Species'].to_numpy()"
      ],
      "execution_count": 7,
      "outputs": []
    },
    {
      "cell_type": "code",
      "metadata": {
        "id": "TmNLevcVBR5F"
      },
      "source": [
        "from sklearn.model_selection import train_test_split\n",
        "\n",
        "train_input, test_input, train_target, test_target = train_test_split(fish_input, fish_target)"
      ],
      "execution_count": 8,
      "outputs": []
    },
    {
      "cell_type": "code",
      "metadata": {
        "id": "slST_tOqBnDs"
      },
      "source": [
        "from sklearn.preprocessing import StandardScaler\n",
        "ss = StandardScaler()\n",
        "ss.fit(train_input)\n",
        "train_scaled = ss.transform(train_input)\n",
        "test_scaled = ss.transform(test_input)"
      ],
      "execution_count": 9,
      "outputs": []
    },
    {
      "cell_type": "code",
      "metadata": {
        "colab": {
          "base_uri": "https://localhost:8080/"
        },
        "id": "qOqrGjB7B358",
        "outputId": "b9540529-3ddf-419b-b630-e2d24d9675a5"
      },
      "source": [
        "from sklearn.neighbors import KNeighborsClassifier\n",
        "kn = KNeighborsClassifier(n_neighbors = 3)\n",
        "kn.fit(train_scaled, train_target)"
      ],
      "execution_count": 10,
      "outputs": [
        {
          "output_type": "execute_result",
          "data": {
            "text/plain": [
              "KNeighborsClassifier(algorithm='auto', leaf_size=30, metric='minkowski',\n",
              "                     metric_params=None, n_jobs=None, n_neighbors=3, p=2,\n",
              "                     weights='uniform')"
            ]
          },
          "metadata": {
            "tags": []
          },
          "execution_count": 10
        }
      ]
    },
    {
      "cell_type": "code",
      "metadata": {
        "colab": {
          "base_uri": "https://localhost:8080/"
        },
        "id": "siJCptcbSEGo",
        "outputId": "d12dee9e-b5de-4d2c-f39f-fad69b9f1094"
      },
      "source": [
        "print(kn.predict(test_scaled))\n",
        "print(test_target)\n",
        "print(kn.score(test_scaled, test_target))"
      ],
      "execution_count": 19,
      "outputs": [
        {
          "output_type": "stream",
          "text": [
            "['Parkki' 'Smelt' 'Perch' 'Bream' 'Roach' 'Roach' 'Roach' 'Roach' 'Perch'\n",
            " 'Pike' 'Pike' 'Pike' 'Pike' 'Perch' 'Perch' 'Smelt' 'Bream' 'Roach'\n",
            " 'Smelt' 'Smelt' 'Whitefish' 'Parkki' 'Bream' 'Perch' 'Perch' 'Bream'\n",
            " 'Bream' 'Perch' 'Parkki' 'Roach' 'Parkki' 'Perch' 'Bream' 'Bream' 'Bream'\n",
            " 'Perch' 'Parkki' 'Smelt' 'Bream' 'Bream']\n",
            "['Bream' 'Smelt' 'Perch' 'Bream' 'Perch' 'Parkki' 'Parkki' 'Roach' 'Perch'\n",
            " 'Pike' 'Pike' 'Pike' 'Pike' 'Perch' 'Perch' 'Smelt' 'Bream' 'Roach'\n",
            " 'Smelt' 'Perch' 'Perch' 'Parkki' 'Bream' 'Perch' 'Perch' 'Bream' 'Bream'\n",
            " 'Perch' 'Parkki' 'Roach' 'Parkki' 'Roach' 'Bream' 'Bream' 'Bream' 'Roach'\n",
            " 'Parkki' 'Smelt' 'Bream' 'Bream']\n",
            "0.8\n"
          ],
          "name": "stdout"
        }
      ]
    },
    {
      "cell_type": "code",
      "metadata": {
        "colab": {
          "base_uri": "https://localhost:8080/"
        },
        "id": "KmqJwCmKSErb",
        "outputId": "1af1e6d6-e70c-4a12-d03a-569e03a5888d"
      },
      "source": [
        "import numpy as np\n",
        "\n",
        "proba = kn.predict_proba(test_scaled)\n",
        "np.round(proba, decimals=3)"
      ],
      "execution_count": 16,
      "outputs": [
        {
          "output_type": "execute_result",
          "data": {
            "text/plain": [
              "array([[0.333, 0.667, 0.   , 0.   , 0.   , 0.   , 0.   ],\n",
              "       [0.   , 0.   , 0.   , 0.   , 0.   , 1.   , 0.   ],\n",
              "       [0.   , 0.   , 0.667, 0.   , 0.   , 0.   , 0.333],\n",
              "       [1.   , 0.   , 0.   , 0.   , 0.   , 0.   , 0.   ],\n",
              "       [0.   , 0.   , 0.333, 0.   , 0.667, 0.   , 0.   ],\n",
              "       [0.   , 0.   , 0.333, 0.   , 0.667, 0.   , 0.   ],\n",
              "       [0.   , 0.   , 0.333, 0.   , 0.667, 0.   , 0.   ],\n",
              "       [0.   , 0.   , 0.333, 0.   , 0.667, 0.   , 0.   ],\n",
              "       [0.   , 0.   , 0.667, 0.   , 0.   , 0.333, 0.   ],\n",
              "       [0.   , 0.   , 0.   , 1.   , 0.   , 0.   , 0.   ],\n",
              "       [0.   , 0.   , 0.   , 1.   , 0.   , 0.   , 0.   ],\n",
              "       [0.   , 0.   , 0.   , 1.   , 0.   , 0.   , 0.   ],\n",
              "       [0.   , 0.   , 0.   , 1.   , 0.   , 0.   , 0.   ],\n",
              "       [0.   , 0.   , 1.   , 0.   , 0.   , 0.   , 0.   ],\n",
              "       [0.   , 0.   , 0.667, 0.   , 0.333, 0.   , 0.   ],\n",
              "       [0.   , 0.   , 0.   , 0.   , 0.   , 1.   , 0.   ],\n",
              "       [1.   , 0.   , 0.   , 0.   , 0.   , 0.   , 0.   ],\n",
              "       [0.   , 0.   , 0.333, 0.   , 0.667, 0.   , 0.   ],\n",
              "       [0.   , 0.   , 0.   , 0.   , 0.   , 1.   , 0.   ],\n",
              "       [0.   , 0.   , 0.333, 0.   , 0.   , 0.667, 0.   ],\n",
              "       [0.   , 0.   , 0.333, 0.   , 0.   , 0.   , 0.667],\n",
              "       [0.   , 0.333, 0.333, 0.   , 0.333, 0.   , 0.   ],\n",
              "       [1.   , 0.   , 0.   , 0.   , 0.   , 0.   , 0.   ],\n",
              "       [0.   , 0.   , 0.667, 0.   , 0.333, 0.   , 0.   ],\n",
              "       [0.   , 0.   , 0.667, 0.   , 0.333, 0.   , 0.   ],\n",
              "       [1.   , 0.   , 0.   , 0.   , 0.   , 0.   , 0.   ],\n",
              "       [1.   , 0.   , 0.   , 0.   , 0.   , 0.   , 0.   ],\n",
              "       [0.   , 0.   , 0.667, 0.   , 0.   , 0.   , 0.333],\n",
              "       [0.333, 0.667, 0.   , 0.   , 0.   , 0.   , 0.   ],\n",
              "       [0.   , 0.   , 0.333, 0.   , 0.667, 0.   , 0.   ],\n",
              "       [0.   , 1.   , 0.   , 0.   , 0.   , 0.   , 0.   ],\n",
              "       [0.   , 0.   , 0.667, 0.   , 0.   , 0.333, 0.   ],\n",
              "       [1.   , 0.   , 0.   , 0.   , 0.   , 0.   , 0.   ],\n",
              "       [1.   , 0.   , 0.   , 0.   , 0.   , 0.   , 0.   ],\n",
              "       [1.   , 0.   , 0.   , 0.   , 0.   , 0.   , 0.   ],\n",
              "       [0.   , 0.   , 0.667, 0.   , 0.333, 0.   , 0.   ],\n",
              "       [0.   , 1.   , 0.   , 0.   , 0.   , 0.   , 0.   ],\n",
              "       [0.   , 0.   , 0.   , 0.   , 0.   , 1.   , 0.   ],\n",
              "       [1.   , 0.   , 0.   , 0.   , 0.   , 0.   , 0.   ],\n",
              "       [0.667, 0.333, 0.   , 0.   , 0.   , 0.   , 0.   ]])"
            ]
          },
          "metadata": {
            "tags": []
          },
          "execution_count": 16
        }
      ]
    },
    {
      "cell_type": "code",
      "metadata": {
        "id": "iu1CLeCxSYPr"
      },
      "source": [
        "from sklearn.linear_model import LogisticRegression\n",
        "\n",
        "lr = LogisticRegression(C=20, max_iter=1000)\n",
        "lr.fit(train_scaled, train_target)\n",
        "train_score = lr.score(train_scaled, train_target)\n",
        "test_score =lr.score(test_scaled, test_target)"
      ],
      "execution_count": 28,
      "outputs": []
    },
    {
      "cell_type": "code",
      "metadata": {
        "colab": {
          "base_uri": "https://localhost:8080/"
        },
        "id": "ZuEKv7pQU_8a",
        "outputId": "1a83fcdc-45eb-48d0-e2a4-14171f018833"
      },
      "source": [
        "decision = lr.decision_function(test_scaled)\n",
        "\n",
        "from scipy.special import softmax\n",
        "proba = softmax(decision, axis = 1)\n",
        "print(np.round(proba, decimals = 3))"
      ],
      "execution_count": 31,
      "outputs": [
        {
          "output_type": "stream",
          "text": [
            "[[0.474 0.414 0.    0.    0.067 0.    0.046]\n",
            " [0.    0.002 0.7   0.    0.029 0.268 0.001]\n",
            " [0.    0.001 0.886 0.007 0.082 0.    0.024]\n",
            " [0.964 0.003 0.    0.    0.001 0.    0.033]\n",
            " [0.    0.03  0.537 0.003 0.37  0.002 0.059]\n",
            " [0.    0.841 0.009 0.    0.109 0.025 0.017]\n",
            " [0.    0.919 0.003 0.    0.058 0.009 0.011]\n",
            " [0.    0.042 0.05  0.001 0.881 0.004 0.022]\n",
            " [0.    0.008 0.835 0.    0.072 0.081 0.004]\n",
            " [0.    0.    0.008 0.991 0.001 0.    0.   ]\n",
            " [0.    0.    0.    1.    0.    0.    0.   ]\n",
            " [0.    0.    0.002 0.998 0.    0.    0.   ]\n",
            " [0.    0.    0.014 0.986 0.    0.    0.   ]\n",
            " [0.    0.    0.946 0.    0.002 0.    0.052]\n",
            " [0.    0.009 0.785 0.001 0.176 0.016 0.012]\n",
            " [0.    0.001 0.051 0.    0.002 0.946 0.   ]\n",
            " [1.    0.    0.    0.    0.    0.    0.   ]\n",
            " [0.001 0.009 0.284 0.016 0.627 0.001 0.062]\n",
            " [0.    0.001 0.11  0.    0.005 0.884 0.   ]\n",
            " [0.    0.017 0.538 0.    0.056 0.386 0.003]\n",
            " [0.002 0.007 0.654 0.025 0.236 0.    0.077]\n",
            " [0.001 0.824 0.006 0.    0.136 0.006 0.027]\n",
            " [0.999 0.    0.    0.    0.    0.    0.001]\n",
            " [0.    0.001 0.887 0.003 0.096 0.    0.014]\n",
            " [0.    0.002 0.802 0.002 0.168 0.    0.026]\n",
            " [0.967 0.024 0.    0.    0.001 0.    0.009]\n",
            " [0.999 0.    0.    0.    0.    0.    0.001]\n",
            " [0.    0.003 0.754 0.01  0.193 0.    0.04 ]\n",
            " [0.24  0.582 0.    0.    0.068 0.    0.11 ]\n",
            " [0.001 0.022 0.23  0.002 0.667 0.001 0.077]\n",
            " [0.025 0.916 0.    0.    0.04  0.    0.018]\n",
            " [0.    0.049 0.427 0.    0.249 0.264 0.012]\n",
            " [0.735 0.049 0.    0.    0.044 0.    0.172]\n",
            " [0.994 0.002 0.    0.    0.    0.    0.004]\n",
            " [0.999 0.    0.    0.    0.    0.    0.001]\n",
            " [0.001 0.018 0.13  0.01  0.777 0.002 0.062]\n",
            " [0.008 0.691 0.005 0.    0.229 0.001 0.066]\n",
            " [0.    0.002 0.148 0.    0.006 0.843 0.   ]\n",
            " [0.978 0.017 0.    0.    0.    0.    0.005]\n",
            " [0.665 0.207 0.    0.    0.037 0.    0.091]]\n"
          ],
          "name": "stdout"
        }
      ]
    },
    {
      "cell_type": "code",
      "metadata": {
        "id": "pq-cPigwV0ee"
      },
      "source": [
        ""
      ],
      "execution_count": null,
      "outputs": []
    }
  ]
}
