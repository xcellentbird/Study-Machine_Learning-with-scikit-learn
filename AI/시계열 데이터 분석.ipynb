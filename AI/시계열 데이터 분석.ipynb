{
 "cells": [
  {
   "cell_type": "markdown",
   "id": "e8d53bc6",
   "metadata": {},
   "source": [
    "# 11 시계열"
   ]
  },
  {
   "cell_type": "markdown",
   "id": "3979c893",
   "metadata": {},
   "source": [
    "## 11.1 날짜, 시간 자료형, 도구"
   ]
  },
  {
   "cell_type": "markdown",
   "id": "3734d05a",
   "metadata": {},
   "source": [
    "datetime 모듈을 활용한 데이터 분석"
   ]
  },
  {
   "cell_type": "code",
   "execution_count": 1,
   "id": "54e6cbee",
   "metadata": {},
   "outputs": [],
   "source": [
    "from datetime import datetime"
   ]
  },
  {
   "cell_type": "code",
   "execution_count": 2,
   "id": "23eda69f",
   "metadata": {},
   "outputs": [],
   "source": [
    "now = datetime.now()"
   ]
  },
  {
   "cell_type": "code",
   "execution_count": 3,
   "id": "ab04f1bc",
   "metadata": {},
   "outputs": [
    {
     "data": {
      "text/plain": [
       "datetime.datetime(2021, 5, 7, 1, 17, 10, 230958)"
      ]
     },
     "execution_count": 3,
     "metadata": {},
     "output_type": "execute_result"
    }
   ],
   "source": [
    "now"
   ]
  },
  {
   "cell_type": "code",
   "execution_count": 4,
   "id": "07348a8d",
   "metadata": {},
   "outputs": [
    {
     "data": {
      "text/plain": [
       "(2021, 5, 7)"
      ]
     },
     "execution_count": 4,
     "metadata": {},
     "output_type": "execute_result"
    }
   ],
   "source": [
    "now.year, now.month, now.day"
   ]
  },
  {
   "cell_type": "code",
   "execution_count": 15,
   "id": "01cb4226",
   "metadata": {},
   "outputs": [
    {
     "data": {
      "text/plain": [
       "(5, 56760)"
      ]
     },
     "execution_count": 15,
     "metadata": {},
     "output_type": "execute_result"
    }
   ],
   "source": [
    "delta = datetime(2021, 5, 7) - datetime(2021, 5, 1, 8, 14)\n",
    "delta.days, delta.seconds"
   ]
  },
  {
   "cell_type": "code",
   "execution_count": 16,
   "id": "5a369d6e",
   "metadata": {},
   "outputs": [
    {
     "data": {
      "text/plain": [
       "(6, 0)"
      ]
     },
     "execution_count": 16,
     "metadata": {},
     "output_type": "execute_result"
    }
   ],
   "source": [
    "delta = datetime(2021, 5, 7) - datetime(2021, 5, 1)\n",
    "delta.days, delta.seconds"
   ]
  },
  {
   "cell_type": "code",
   "execution_count": 29,
   "id": "310ea71c",
   "metadata": {},
   "outputs": [
    {
     "data": {
      "text/plain": [
       "datetime.timedelta(days=27)"
      ]
     },
     "execution_count": 29,
     "metadata": {},
     "output_type": "execute_result"
    }
   ],
   "source": [
    "delta / 2 + delta * 4"
   ]
  },
  {
   "cell_type": "code",
   "execution_count": 17,
   "id": "2ded2ef9",
   "metadata": {},
   "outputs": [],
   "source": [
    "from datetime import timedelta"
   ]
  },
  {
   "cell_type": "code",
   "execution_count": 19,
   "id": "dc371ce1",
   "metadata": {},
   "outputs": [],
   "source": [
    "start = datetime(2021, 5, 1)"
   ]
  },
  {
   "cell_type": "code",
   "execution_count": 23,
   "id": "67dbd667",
   "metadata": {},
   "outputs": [
    {
     "data": {
      "text/plain": [
       "(datetime.datetime(2021, 5, 13, 0, 0), datetime.datetime(2021, 5, 25, 0, 0))"
      ]
     },
     "execution_count": 23,
     "metadata": {},
     "output_type": "execute_result"
    }
   ],
   "source": [
    "start + timedelta(12), start + 2 * timedelta(12)"
   ]
  },
  {
   "cell_type": "code",
   "execution_count": 22,
   "id": "935d94b4",
   "metadata": {},
   "outputs": [
    {
     "data": {
      "text/plain": [
       "datetime.datetime(2021, 4, 25, 0, 0)"
      ]
     },
     "execution_count": 22,
     "metadata": {},
     "output_type": "execute_result"
    }
   ],
   "source": [
    "start - delta"
   ]
  },
  {
   "cell_type": "markdown",
   "id": "f5b3602e",
   "metadata": {},
   "source": [
    "<center>datetime 모듈의 자료형</center>    \n",
    "\n",
    "|자료형|설명|  \n",
    "|------|---|  \n",
    "|date|날짜(연,월,일)을 저장|  \n",
    "|time|하루의 시간을 시,분,초,마이크로초 단위 저장|  \n",
    "|datetime|날짜와 시간을 저장|  \n",
    "|timedelta|datetime값 간의 차이(일,초,마이크로초) 표현|   "
   ]
  },
  {
   "cell_type": "markdown",
   "id": "199c632e",
   "metadata": {},
   "source": [
    "### 11.1.1 문자열을 datetime으로 변환하기\n",
    "\n",
    "datetime객체와 pandas Timestamp 객체는 str나 strftime로 문자열을 포맷 규칙을 넘겨서 서로 나타낼 수 있다."
   ]
  },
  {
   "cell_type": "code",
   "execution_count": 31,
   "id": "c686223c",
   "metadata": {},
   "outputs": [],
   "source": [
    "stamp = datetime(2011, 1, 3)"
   ]
  },
  {
   "cell_type": "code",
   "execution_count": 34,
   "id": "d58639d5",
   "metadata": {},
   "outputs": [
    {
     "data": {
      "text/plain": [
       "('2011-01-03 00:00:00', '2011년 01월 03일')"
      ]
     },
     "execution_count": 34,
     "metadata": {},
     "output_type": "execute_result"
    }
   ],
   "source": [
    "str(stamp), stamp.strftime('%Y년 %m월 %d일')"
   ]
  },
  {
   "cell_type": "markdown",
   "id": "bb405dda",
   "metadata": {},
   "source": [
    "Datetime 포맷 규칙 참고: [Python Datetime Doc](https://docs.python.org/3/library/datetime.html#strftime-and-strptime-behavior)"
   ]
  },
  {
   "cell_type": "code",
   "execution_count": 40,
   "id": "3741254e",
   "metadata": {},
   "outputs": [
    {
     "data": {
      "text/plain": [
       "(datetime.datetime(2021, 5, 7, 0, 0), datetime.datetime(2021, 5, 7, 0, 0))"
      ]
     },
     "execution_count": 40,
     "metadata": {},
     "output_type": "execute_result"
    }
   ],
   "source": [
    "value1 = '2021-05-07'\n",
    "value2 = '2021/5/7'\n",
    "# 다음과 같이 포맷 규칙을 사용하여 문자열을 datetime 객체로 변환할 수 있다.\n",
    "datetime.strptime(value1, '%Y-%m-%d'), datetime.strptime(value2, '%Y/%m/%d')"
   ]
  },
  {
   "cell_type": "code",
   "execution_count": 44,
   "id": "98b62be8",
   "metadata": {},
   "outputs": [
    {
     "data": {
      "text/plain": [
       "(datetime.datetime(2021, 5, 7, 0, 0), datetime.datetime(2021, 5, 7, 0, 0))"
      ]
     },
     "execution_count": 44,
     "metadata": {},
     "output_type": "execute_result"
    }
   ],
   "source": [
    "from dateutil.parser import parse\n",
    "\n",
    "# 사실 위의 모듈을 사용하면 포맷 설정없이 편하게 변환할 수 있다.\n",
    "parse(value1), parse(value2)"
   ]
  },
  {
   "cell_type": "code",
   "execution_count": 46,
   "id": "ee85fcdc",
   "metadata": {},
   "outputs": [
    {
     "data": {
      "text/plain": [
       "datetime.datetime(2021, 5, 7, 0, 0)"
      ]
     },
     "execution_count": 46,
     "metadata": {},
     "output_type": "execute_result"
    }
   ],
   "source": [
    "# 미국식? 날짜 표기의 경우\n",
    "value3 = '7/5/2021'\n",
    "parse(value3, dayfirst=True)"
   ]
  },
  {
   "cell_type": "code",
   "execution_count": 50,
   "id": "e330e8e5",
   "metadata": {},
   "outputs": [
    {
     "data": {
      "text/plain": [
       "DatetimeIndex(['2021-05-07', '2021-05-07'], dtype='datetime64[ns]', freq=None)"
      ]
     },
     "execution_count": 50,
     "metadata": {},
     "output_type": "execute_result"
    }
   ],
   "source": [
    "# 판다스 to_datatime을 이용하면 문자열 배열을 한꺼번에 변환 가능하다.\n",
    "import pandas as pd\n",
    "pd.to_datetime([value1, value2])"
   ]
  },
  {
   "cell_type": "markdown",
   "id": "bcc223a0",
   "metadata": {},
   "source": [
    "## 11.2 시계열 기초"
   ]
  },
  {
   "cell_type": "code",
   "execution_count": 102,
   "id": "f9f98f47",
   "metadata": {},
   "outputs": [
    {
     "data": {
      "text/plain": [
       "PeriodIndex(['2021-04-28', '2021-04-29', '2021-04-30', '2021-05-01',\n",
       "             '2021-05-02', '2021-05-03', '2021-05-04', '2021-05-05',\n",
       "             '2021-05-06', '2021-05-07', '2021-05-08'],\n",
       "            dtype='period[D]', freq='D')"
      ]
     },
     "execution_count": 102,
     "metadata": {},
     "output_type": "execute_result"
    }
   ],
   "source": [
    "dates = pd.period_range(start='2021/4/28', end='2021/5/8', periods=None, freq='D')\n",
    "dates"
   ]
  },
  {
   "cell_type": "code",
   "execution_count": 103,
   "id": "d4a9b8a8",
   "metadata": {},
   "outputs": [
    {
     "data": {
      "text/plain": [
       "PeriodIndex(['2021-04-28', '2021-04-29', '2021-04-30', '2021-05-01',\n",
       "             '2021-05-02', '2021-05-03', '2021-05-04', '2021-05-05',\n",
       "             '2021-05-06', '2021-05-07', '2021-05-08'],\n",
       "            dtype='period[D]', freq='D')"
      ]
     },
     "execution_count": 103,
     "metadata": {},
     "output_type": "execute_result"
    }
   ],
   "source": [
    "pd.period_range(end='2021/5/8', periods=11, freq='D')"
   ]
  },
  {
   "cell_type": "code",
   "execution_count": 104,
   "id": "f54b4af6",
   "metadata": {},
   "outputs": [
    {
     "data": {
      "text/plain": [
       "PeriodIndex(['2021-04-28', '2021-04-29', '2021-04-30', '2021-05-01',\n",
       "             '2021-05-02', '2021-05-03', '2021-05-04', '2021-05-05',\n",
       "             '2021-05-06', '2021-05-07', '2021-05-08'],\n",
       "            dtype='period[D]', freq='D')"
      ]
     },
     "execution_count": 104,
     "metadata": {},
     "output_type": "execute_result"
    }
   ],
   "source": [
    "pd.period_range(start='2021/4/28', periods=11, freq='D')"
   ]
  },
  {
   "cell_type": "code",
   "execution_count": 105,
   "id": "4bda2d31",
   "metadata": {},
   "outputs": [
    {
     "data": {
      "text/plain": [
       "2021-04-28   -0.576577\n",
       "2021-04-29    0.980879\n",
       "2021-04-30   -0.889797\n",
       "2021-05-01    1.441594\n",
       "2021-05-02    0.463585\n",
       "2021-05-03    0.096873\n",
       "2021-05-04    0.087057\n",
       "2021-05-05    0.365575\n",
       "2021-05-06    1.976146\n",
       "2021-05-07    1.425787\n",
       "2021-05-08   -1.381235\n",
       "Freq: D, dtype: float64"
      ]
     },
     "execution_count": 105,
     "metadata": {},
     "output_type": "execute_result"
    }
   ],
   "source": [
    "import numpy as np\n",
    "ts = pd.Series(np.random.randn(len(dates)), index=dates)\n",
    "ts"
   ]
  },
  {
   "cell_type": "code",
   "execution_count": 106,
   "id": "d1ec0a59",
   "metadata": {},
   "outputs": [
    {
     "data": {
      "text/plain": [
       "PeriodIndex(['2021-04-28', '2021-04-29', '2021-04-30', '2021-05-01',\n",
       "             '2021-05-02', '2021-05-03', '2021-05-04', '2021-05-05',\n",
       "             '2021-05-06', '2021-05-07', '2021-05-08'],\n",
       "            dtype='period[D]', freq='D')"
      ]
     },
     "execution_count": 106,
     "metadata": {},
     "output_type": "execute_result"
    }
   ],
   "source": [
    "ts.index"
   ]
  },
  {
   "cell_type": "code",
   "execution_count": 107,
   "id": "6ae0f596",
   "metadata": {},
   "outputs": [
    {
     "data": {
      "text/plain": [
       "2021-04-28   -1.153154\n",
       "2021-04-29         NaN\n",
       "2021-04-30   -1.779595\n",
       "2021-05-01         NaN\n",
       "2021-05-02    0.927170\n",
       "2021-05-03         NaN\n",
       "2021-05-04    0.174114\n",
       "2021-05-05         NaN\n",
       "2021-05-06    3.952292\n",
       "2021-05-07         NaN\n",
       "2021-05-08   -2.762470\n",
       "Freq: D, dtype: float64"
      ]
     },
     "execution_count": 107,
     "metadata": {},
     "output_type": "execute_result"
    }
   ],
   "source": [
    "ts + ts[::2]"
   ]
  },
  {
   "cell_type": "markdown",
   "id": "d7f128d2",
   "metadata": {},
   "source": [
    "### 11.2.1 색인, 선택, 부분 선택"
   ]
  },
  {
   "cell_type": "code",
   "execution_count": 108,
   "id": "c40ce3f0",
   "metadata": {},
   "outputs": [
    {
     "data": {
      "text/plain": [
       "(Period('2021-05-02', 'D'), 0.4635849836673764)"
      ]
     },
     "execution_count": 108,
     "metadata": {},
     "output_type": "execute_result"
    }
   ],
   "source": [
    "stamp = ts.index[4]\n",
    "stamp, ts[stamp]"
   ]
  },
  {
   "cell_type": "code",
   "execution_count": 109,
   "id": "c2d2b9d0",
   "metadata": {},
   "outputs": [
    {
     "data": {
      "text/plain": [
       "(-0.5765772482127955, -0.5765772482127955, -0.5765772482127955)"
      ]
     },
     "execution_count": 109,
     "metadata": {},
     "output_type": "execute_result"
    }
   ],
   "source": [
    "# 다음과 같이 문자열만으로도 날짜 인덱스에 맞게 자동 변환되어 값을 불러올 수 있다.\n",
    "ts['20210428'],ts['2021/04/28'],ts['2021-04-28']"
   ]
  },
  {
   "cell_type": "code",
   "execution_count": 110,
   "id": "f32a800b",
   "metadata": {},
   "outputs": [
    {
     "data": {
      "text/plain": [
       "(2021-04-28   -0.576577\n",
       " 2021-04-29    0.980879\n",
       " 2021-04-30   -0.889797\n",
       " Freq: D, dtype: float64,\n",
       " 2021-04-28   -0.576577\n",
       " 2021-04-29    0.980879\n",
       " 2021-04-30   -0.889797\n",
       " Freq: D, dtype: float64)"
      ]
     },
     "execution_count": 110,
     "metadata": {},
     "output_type": "execute_result"
    }
   ],
   "source": [
    "# 해당 월의 Series를 불러올 수 있다. 하지만, '-'나 '/'같은 포맷이 필요하다.\n",
    "ts['2021-04'],ts['2021/04'] #,ts['202104']"
   ]
  },
  {
   "cell_type": "code",
   "execution_count": 111,
   "id": "e2f51318",
   "metadata": {},
   "outputs": [
    {
     "data": {
      "text/plain": [
       "2021-04-30   -0.889797\n",
       "2021-05-01    1.441594\n",
       "2021-05-02    0.463585\n",
       "2021-05-03    0.096873\n",
       "2021-05-04    0.087057\n",
       "2021-05-05    0.365575\n",
       "2021-05-06    1.976146\n",
       "2021-05-07    1.425787\n",
       "2021-05-08   -1.381235\n",
       "Freq: D, dtype: float64"
      ]
     },
     "execution_count": 111,
     "metadata": {},
     "output_type": "execute_result"
    }
   ],
   "source": [
    "ts['20210430':]"
   ]
  },
  {
   "cell_type": "markdown",
   "id": "7bfc39a6",
   "metadata": {},
   "source": [
    "## 11.3 날짜 범위, 빈도, 이동"
   ]
  },
  {
   "cell_type": "markdown",
   "id": "8543ecaf",
   "metadata": {},
   "source": [
    "### 11.3.1 날짜 범위 생성하기"
   ]
  },
  {
   "cell_type": "code",
   "execution_count": 114,
   "id": "dbc5234b",
   "metadata": {},
   "outputs": [
    {
     "data": {
      "text/plain": [
       "DatetimeIndex(['2021-04-25', '2021-04-26', '2021-04-27', '2021-04-28',\n",
       "               '2021-04-29', '2021-04-30', '2021-05-01', '2021-05-02',\n",
       "               '2021-05-03', '2021-05-04', '2021-05-05', '2021-05-06',\n",
       "               '2021-05-07'],\n",
       "              dtype='datetime64[ns]', freq='D')"
      ]
     },
     "execution_count": 114,
     "metadata": {},
     "output_type": "execute_result"
    }
   ],
   "source": [
    "index = pd.date_range('20210425','20210507')\n",
    "index"
   ]
  },
  {
   "cell_type": "code",
   "execution_count": 117,
   "id": "fd7b5331",
   "metadata": {},
   "outputs": [
    {
     "data": {
      "text/plain": [
       "DatetimeIndex(['2020-01-31', '2020-02-29', '2020-03-31', '2020-04-30',\n",
       "               '2020-05-31', '2020-06-30', '2020-07-31', '2020-08-31',\n",
       "               '2020-09-30', '2020-10-31', '2020-11-30', '2020-12-31'],\n",
       "              dtype='datetime64[ns]', freq='M')"
      ]
     },
     "execution_count": 117,
     "metadata": {},
     "output_type": "execute_result"
    }
   ],
   "source": [
    "# freq에 'BM'을 대입하면 월 말일이 표시된다.\n",
    "pd.date_range('20200101','20201231', freq='M')"
   ]
  },
  {
   "cell_type": "code",
   "execution_count": 118,
   "id": "0ece27ab",
   "metadata": {},
   "outputs": [
    {
     "data": {
      "text/plain": [
       "DatetimeIndex(['2021-05-07 16:52:08.598105', '2021-05-08 16:52:08.598105',\n",
       "               '2021-05-09 16:52:08.598105', '2021-05-10 16:52:08.598105',\n",
       "               '2021-05-11 16:52:08.598105'],\n",
       "              dtype='datetime64[ns]', freq='D')"
      ]
     },
     "execution_count": 118,
     "metadata": {},
     "output_type": "execute_result"
    }
   ],
   "source": [
    "pd.date_range(datetime.now(), periods=5)"
   ]
  },
  {
   "cell_type": "code",
   "execution_count": 119,
   "id": "8a64d397",
   "metadata": {},
   "outputs": [
    {
     "data": {
      "text/plain": [
       "DatetimeIndex(['2021-05-07', '2021-05-08', '2021-05-09', '2021-05-10',\n",
       "               '2021-05-11'],\n",
       "              dtype='datetime64[ns]', freq='D')"
      ]
     },
     "execution_count": 119,
     "metadata": {},
     "output_type": "execute_result"
    }
   ],
   "source": [
    "pd.date_range(datetime.now(), periods=5, normalize=True)"
   ]
  },
  {
   "cell_type": "markdown",
   "id": "9414a0a2",
   "metadata": {},
   "source": [
    "### 11.3.2 빈도와 날짜 오프셋"
   ]
  },
  {
   "cell_type": "code",
   "execution_count": 120,
   "id": "97c7cd8a",
   "metadata": {},
   "outputs": [],
   "source": [
    "from pandas.tseries.offsets import Hour, Minute"
   ]
  },
  {
   "cell_type": "code",
   "execution_count": 123,
   "id": "03783a0b",
   "metadata": {},
   "outputs": [
    {
     "data": {
      "text/plain": [
       "(<Hour>, <5 * Hours>, <45 * Minutes>)"
      ]
     },
     "execution_count": 123,
     "metadata": {},
     "output_type": "execute_result"
    }
   ],
   "source": [
    "Hour(), Hour(5), Minute(45)"
   ]
  },
  {
   "cell_type": "code",
   "execution_count": 124,
   "id": "40f7b3ec",
   "metadata": {},
   "outputs": [
    {
     "data": {
      "text/plain": [
       "<472 * Minutes>"
      ]
     },
     "execution_count": 124,
     "metadata": {},
     "output_type": "execute_result"
    }
   ],
   "source": [
    "Hour(7) + Minute(52)"
   ]
  },
  {
   "cell_type": "code",
   "execution_count": 127,
   "id": "3c35db90",
   "metadata": {},
   "outputs": [
    {
     "data": {
      "text/plain": [
       "DatetimeIndex(['2021-05-07 00:00:00', '2021-05-07 04:00:00',\n",
       "               '2021-05-07 08:00:00', '2021-05-07 12:00:00',\n",
       "               '2021-05-07 16:00:00', '2021-05-07 20:00:00',\n",
       "               '2021-05-08 00:00:00'],\n",
       "              dtype='datetime64[ns]', freq='4H')"
      ]
     },
     "execution_count": 127,
     "metadata": {},
     "output_type": "execute_result"
    }
   ],
   "source": [
    "pd.date_range('20210507','20210508',freq=Hour(4))"
   ]
  }
 ],
 "metadata": {
  "kernelspec": {
   "display_name": "Python 3",
   "language": "python",
   "name": "python3"
  },
  "language_info": {
   "codemirror_mode": {
    "name": "ipython",
    "version": 3
   },
   "file_extension": ".py",
   "mimetype": "text/x-python",
   "name": "python",
   "nbconvert_exporter": "python",
   "pygments_lexer": "ipython3",
   "version": "3.9.4"
  }
 },
 "nbformat": 4,
 "nbformat_minor": 5
}
