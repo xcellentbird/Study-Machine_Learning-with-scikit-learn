{
 "cells": [
  {
   "cell_type": "markdown",
   "id": "13c6bded",
   "metadata": {},
   "source": [
    "## 1. Numpy 시작하기"
   ]
  },
  {
   "cell_type": "markdown",
   "id": "2321e029",
   "metadata": {},
   "source": [
    "#### Remind: 리스트"
   ]
  },
  {
   "cell_type": "code",
   "execution_count": 1,
   "id": "f9cb97b8",
   "metadata": {},
   "outputs": [
    {
     "name": "stdout",
     "output_type": "stream",
     "text": [
      "[1, 'tow', 3.9]\n"
     ]
    }
   ],
   "source": [
    "arr = [1, 'tow', 3.9]\n",
    "\n",
    "print(arr)"
   ]
  },
  {
   "cell_type": "markdown",
   "id": "4ccb0548",
   "metadata": {},
   "source": [
    "#### numpy 모듈 불러오기"
   ]
  },
  {
   "cell_type": "code",
   "execution_count": 2,
   "id": "07561f93",
   "metadata": {},
   "outputs": [],
   "source": [
    "import numpy as np"
   ]
  },
  {
   "cell_type": "markdown",
   "id": "a79c4824",
   "metadata": {},
   "source": [
    "### 왜 numpy를 사용해야 할까요?"
   ]
  },
  {
   "cell_type": "markdown",
   "id": "a5259175",
   "metadata": {},
   "source": [
    "#### List"
   ]
  },
  {
   "cell_type": "code",
   "execution_count": 3,
   "id": "c711a449",
   "metadata": {},
   "outputs": [
    {
     "name": "stdout",
     "output_type": "stream",
     "text": [
      "258 µs ± 420 ns per loop (mean ± std. dev. of 7 runs, 1000 loops each)\n"
     ]
    }
   ],
   "source": [
    "L = range(1000)\n",
    "\n",
    "# %timeit은 jynb에서 사용하는 실행시간을 체크하는 내부 표현이다.\n",
    "%timeit [i**2 for i in L]"
   ]
  },
  {
   "cell_type": "markdown",
   "id": "bb33882a",
   "metadata": {},
   "source": [
    "#### numpy.array"
   ]
  },
  {
   "cell_type": "code",
   "execution_count": 4,
   "id": "1c2e1c03",
   "metadata": {},
   "outputs": [
    {
     "name": "stdout",
     "output_type": "stream",
     "text": [
      "822 ns ± 0.212 ns per loop (mean ± std. dev. of 7 runs, 1000000 loops each)\n"
     ]
    }
   ],
   "source": [
    "N = np.arange(1000)\n",
    "%timeit N**2"
   ]
  },
  {
   "cell_type": "markdown",
   "id": "a0909003",
   "metadata": {},
   "source": [
    "numpy가 훨씬 속도가 빨랐다."
   ]
  },
  {
   "cell_type": "markdown",
   "id": "4fa22f2d",
   "metadata": {},
   "source": [
    "### numpy.array\n",
    "\n",
    "numpy의 container, array"
   ]
  },
  {
   "cell_type": "code",
   "execution_count": 5,
   "id": "2db7d4b5",
   "metadata": {},
   "outputs": [
    {
     "data": {
      "text/plain": [
       "array([1, 4, 6])"
      ]
     },
     "execution_count": 5,
     "metadata": {},
     "output_type": "execute_result"
    }
   ],
   "source": [
    "arr = np.array([1,4,6])\n",
    "arr"
   ]
  },
  {
   "cell_type": "code",
   "execution_count": 6,
   "id": "392b17fd",
   "metadata": {},
   "outputs": [
    {
     "data": {
      "text/plain": [
       "array([[1, 2, 5],\n",
       "       [5, 2, 7]])"
      ]
     },
     "execution_count": 6,
     "metadata": {},
     "output_type": "execute_result"
    }
   ],
   "source": [
    "arr_2d = np.array([[1,2,5],[5,2,7]])\n",
    "arr_2d"
   ]
  },
  {
   "cell_type": "markdown",
   "id": "1879ac23",
   "metadata": {},
   "source": [
    "(x,)식으로 shape이 나올 경우 행백터이다."
   ]
  },
  {
   "cell_type": "code",
   "execution_count": 7,
   "id": "d5c81936",
   "metadata": {},
   "outputs": [
    {
     "data": {
      "text/plain": [
       "(3,)"
      ]
     },
     "execution_count": 7,
     "metadata": {},
     "output_type": "execute_result"
    }
   ],
   "source": [
    "arr.shape"
   ]
  },
  {
   "cell_type": "markdown",
   "id": "5138e95e",
   "metadata": {},
   "source": [
    "shape 함수는 y * x | 열 개수 * 행 개수 | j * i"
   ]
  },
  {
   "cell_type": "code",
   "execution_count": 12,
   "id": "8def3a27",
   "metadata": {},
   "outputs": [
    {
     "data": {
      "text/plain": [
       "(2, 3)"
      ]
     },
     "execution_count": 12,
     "metadata": {},
     "output_type": "execute_result"
    }
   ],
   "source": [
    "arr_2d.shape"
   ]
  },
  {
   "cell_type": "markdown",
   "id": "f4ba2126",
   "metadata": {},
   "source": [
    "열벡터는 뒤에 1을 생략하지 않고 표현해준다."
   ]
  },
  {
   "cell_type": "code",
   "execution_count": 15,
   "id": "966ac335",
   "metadata": {},
   "outputs": [
    {
     "data": {
      "text/plain": [
       "(3, 1)"
      ]
     },
     "execution_count": 15,
     "metadata": {},
     "output_type": "execute_result"
    }
   ],
   "source": [
    "col_arr = np.array([[2],[3],[-1]])\n",
    "\n",
    "col_arr.shape"
   ]
  },
  {
   "cell_type": "code",
   "execution_count": 16,
   "id": "c3713c40",
   "metadata": {},
   "outputs": [
    {
     "name": "stdout",
     "output_type": "stream",
     "text": [
      "[[ 3  1  1]\n",
      " [ 1 -2 -1]\n",
      " [ 1  1  1]]\n",
      "(3, 3)\n"
     ]
    }
   ],
   "source": [
    "A = np.array([[3,1,1],[1,-2,-1],[1,1,1]])\n",
    "\n",
    "print(A)\n",
    "print(np.shape(A))"
   ]
  },
  {
   "cell_type": "markdown",
   "id": "4931407d",
   "metadata": {},
   "source": [
    "## 백터 코딩"
   ]
  },
  {
   "cell_type": "code",
   "execution_count": 11,
   "id": "93add14a",
   "metadata": {},
   "outputs": [
    {
     "name": "stdout",
     "output_type": "stream",
     "text": [
      "[4 1 2]\n",
      "(3,)\n"
     ]
    }
   ],
   "source": [
    "b = np.array([4, 1, 2])\n",
    "\n",
    "print(b)\n",
    "print(np.shape(b))"
   ]
  },
  {
   "cell_type": "markdown",
   "id": "209e3927",
   "metadata": {},
   "source": [
    "## 역행렬 구하기"
   ]
  },
  {
   "cell_type": "code",
   "execution_count": 17,
   "id": "4e39a5c1",
   "metadata": {},
   "outputs": [
    {
     "name": "stdout",
     "output_type": "stream",
     "text": [
      "[[ 5.00000000e-01 -7.40148683e-17 -5.00000000e-01]\n",
      " [ 1.00000000e+00 -1.00000000e+00 -2.00000000e+00]\n",
      " [-1.50000000e+00  1.00000000e+00  3.50000000e+00]]\n",
      "(3, 3)\n"
     ]
    }
   ],
   "source": [
    "A_inv = np.linalg.inv(A)\n",
    "\n",
    "print(A_inv)\n",
    "print(np.shape(A_inv))"
   ]
  },
  {
   "cell_type": "markdown",
   "id": "b73f41ad",
   "metadata": {},
   "source": [
    "## 역행렬을 이용한 선형시스템 Ax=b의 해 구하기"
   ]
  },
  {
   "cell_type": "code",
   "execution_count": 18,
   "id": "62e559c2",
   "metadata": {},
   "outputs": [
    {
     "data": {
      "text/plain": [
       "array([ 1., -1.,  2.])"
      ]
     },
     "execution_count": 18,
     "metadata": {},
     "output_type": "execute_result"
    }
   ],
   "source": [
    "x2 = np.matmul(A_inv, b)\n",
    "x2"
   ]
  },
  {
   "cell_type": "markdown",
   "id": "329c5c5b",
   "metadata": {},
   "source": [
    "@는 행렬곱을 나타낸다. np.matmul대신에 사용가능하다"
   ]
  },
  {
   "cell_type": "code",
   "execution_count": 19,
   "id": "fff14dbf",
   "metadata": {},
   "outputs": [
    {
     "data": {
      "text/plain": [
       "array([ 1., -1.,  2.])"
      ]
     },
     "execution_count": 19,
     "metadata": {},
     "output_type": "execute_result"
    }
   ],
   "source": [
    "x = A_inv @ b\n",
    "x"
   ]
  },
  {
   "cell_type": "code",
   "execution_count": null,
   "id": "fc9cf58c",
   "metadata": {},
   "outputs": [],
   "source": []
  }
 ],
 "metadata": {
  "kernelspec": {
   "display_name": "Python 3",
   "language": "python",
   "name": "python3"
  },
  "language_info": {
   "codemirror_mode": {
    "name": "ipython",
    "version": 3
   },
   "file_extension": ".py",
   "mimetype": "text/x-python",
   "name": "python",
   "nbconvert_exporter": "python",
   "pygments_lexer": "ipython3",
   "version": "3.9.4"
  }
 },
 "nbformat": 4,
 "nbformat_minor": 5
}
