{
 "cells": [
  {
   "cell_type": "code",
   "execution_count": 3,
   "id": "b01107c8",
   "metadata": {},
   "outputs": [],
   "source": [
    "import numpy as np"
   ]
  },
  {
   "cell_type": "code",
   "execution_count": 30,
   "id": "3e504f72",
   "metadata": {},
   "outputs": [
    {
     "ename": "TypeError",
     "evalue": "can only concatenate list (not \"int\") to list",
     "output_type": "error",
     "traceback": [
      "\u001b[0;31m---------------------------------------------------------------------------\u001b[0m",
      "\u001b[0;31mTypeError\u001b[0m                                 Traceback (most recent call last)",
      "\u001b[0;32m<ipython-input-30-73b67a2f067d>\u001b[0m in \u001b[0;36m<module>\u001b[0;34m\u001b[0m\n\u001b[1;32m      1\u001b[0m \u001b[0mx\u001b[0m\u001b[0;34m,\u001b[0m \u001b[0mc\u001b[0m \u001b[0;34m=\u001b[0m \u001b[0;34m[\u001b[0m\u001b[0;34m[\u001b[0m\u001b[0;36m1\u001b[0m\u001b[0;34m]\u001b[0m\u001b[0;34m,\u001b[0m\u001b[0;34m[\u001b[0m\u001b[0;36m2\u001b[0m\u001b[0;34m]\u001b[0m\u001b[0;34m,\u001b[0m\u001b[0;34m[\u001b[0m\u001b[0;36m3\u001b[0m\u001b[0;34m]\u001b[0m\u001b[0;34m]\u001b[0m\u001b[0;34m,\u001b[0m \u001b[0;36m5\u001b[0m\u001b[0;34m\u001b[0m\u001b[0;34m\u001b[0m\u001b[0m\n\u001b[1;32m      2\u001b[0m \u001b[0;34m\u001b[0m\u001b[0m\n\u001b[0;32m----> 3\u001b[0;31m \u001b[0mprint\u001b[0m\u001b[0;34m(\u001b[0m\u001b[0;34m\"더하기 : {}\"\u001b[0m\u001b[0;34m.\u001b[0m\u001b[0mformat\u001b[0m\u001b[0;34m(\u001b[0m\u001b[0mx\u001b[0m \u001b[0;34m+\u001b[0m \u001b[0mc\u001b[0m\u001b[0;34m)\u001b[0m\u001b[0;34m)\u001b[0m\u001b[0;34m\u001b[0m\u001b[0;34m\u001b[0m\u001b[0m\n\u001b[0m",
      "\u001b[0;31mTypeError\u001b[0m: can only concatenate list (not \"int\") to list"
     ]
    }
   ],
   "source": [
    "x, c = [[1],[2],[3]], 5\n",
    "\n",
    "print(\"더하기 : {}\".format(x + c))"
   ]
  },
  {
   "cell_type": "markdown",
   "id": "5ac2b90d",
   "metadata": {},
   "source": [
    "TypeError: can only concatenate list (not \"int\") to list  \n",
    "타입 에러: 리스트는 리스트(int형이 아닌)와 이어질 수 있다."
   ]
  },
  {
   "cell_type": "code",
   "execution_count": 7,
   "id": "3b225b5e",
   "metadata": {},
   "outputs": [
    {
     "name": "stdout",
     "output_type": "stream",
     "text": [
      "더하기 : [6 7 8]\n"
     ]
    }
   ],
   "source": [
    "nx = np.array([1,2,3])\n",
    "nc = 5\n",
    "\n",
    "print(\"더하기 : {}\".format(nx + nc))"
   ]
  },
  {
   "cell_type": "markdown",
   "id": "81e41ba6",
   "metadata": {},
   "source": [
    "numpy를 쓰지 않으면 오류가 나지만, numpy를 쓴 벡터에 상수값을 더하면, 벡터의 각 요소에 상수를 더한 값이 반환된다.\n",
    "또한 더하기 뿐만 아니라, 빼기, 나누기, 곱하기도 똑같은 원리로 작동한다."
   ]
  },
  {
   "cell_type": "markdown",
   "id": "094f8c75",
   "metadata": {},
   "source": [
    "### Vector와 Vector 연산"
   ]
  },
  {
   "cell_type": "code",
   "execution_count": 9,
   "id": "2fcad101",
   "metadata": {},
   "outputs": [
    {
     "name": "stdout",
     "output_type": "stream",
     "text": [
      "더하기 : [ 3 12 25]\n",
      "빼기  : [ -1  -6 -15]\n",
      "곱하기 : [  2  27 100]\n",
      "나누기 : [0.5        0.33333333 0.25      ]\n"
     ]
    }
   ],
   "source": [
    "y = np.array([1, 3, 5])\n",
    "z = np.array([2, 9, 20])\n",
    "\n",
    "print(\"더하기 : {}\".format(y+z))\n",
    "print(\"빼기  : {}\".format(y-z))\n",
    "print(\"곱하기 : {}\".format(y*z))\n",
    "print(\"나누기 : {}\".format(y/z))"
   ]
  },
  {
   "cell_type": "markdown",
   "id": "913ae0ac",
   "metadata": {},
   "source": [
    "np를 사용하여 행렬끼리 사칙연산하면 각 같은 자리의 요소끼리 짝지어 연산되어 반환된다."
   ]
  },
  {
   "cell_type": "markdown",
   "id": "b326cd3c",
   "metadata": {},
   "source": [
    "### Numpy의 index 요소 접근"
   ]
  },
  {
   "cell_type": "code",
   "execution_count": 13,
   "id": "5475443a",
   "metadata": {},
   "outputs": [
    {
     "name": "stdout",
     "output_type": "stream",
     "text": [
      "1\n",
      "12\n"
     ]
    }
   ],
   "source": [
    "W = np.array([[1,2,3,4],\n",
    "              [5,6,7,8],\n",
    "              [9,10,11,12]])\n",
    "\n",
    "# [col, row] == list의 [col][row]와 같다. 3차원이라면 그 뒤에 이어서 적어주면 된다.\n",
    "print(W[0, 0])\n",
    "print(W[2, 3])"
   ]
  },
  {
   "cell_type": "code",
   "execution_count": 15,
   "id": "af74a66b",
   "metadata": {},
   "outputs": [
    {
     "data": {
      "text/plain": [
       "array([ 3,  7, 11])"
      ]
     },
     "execution_count": 15,
     "metadata": {},
     "output_type": "execute_result"
    }
   ],
   "source": [
    "# ex) 두번째 3번째 열의 모든 요소를 가져온다\n",
    "W[:, 2]"
   ]
  },
  {
   "cell_type": "code",
   "execution_count": 16,
   "id": "6edefc06",
   "metadata": {},
   "outputs": [
    {
     "data": {
      "text/plain": [
       "array([1, 2, 3, 4])"
      ]
     },
     "execution_count": 16,
     "metadata": {},
     "output_type": "execute_result"
    }
   ],
   "source": [
    "# 첫번째 행\n",
    "W[0, :]"
   ]
  },
  {
   "cell_type": "code",
   "execution_count": 19,
   "id": "280959ee",
   "metadata": {},
   "outputs": [
    {
     "data": {
      "text/plain": [
       "array([2, 3, 4])"
      ]
     },
     "execution_count": 19,
     "metadata": {},
     "output_type": "execute_result"
    }
   ],
   "source": [
    "# 첫번째 행에서 2번째 요소부터 4번째까지\n",
    "W[0, 1:]"
   ]
  },
  {
   "cell_type": "code",
   "execution_count": 20,
   "id": "3af90340",
   "metadata": {},
   "outputs": [
    {
     "data": {
      "text/plain": [
       "array([[ 1,  2,  3],\n",
       "       [ 5,  6,  7],\n",
       "       [ 9, 10, 11]])"
      ]
     },
     "execution_count": 20,
     "metadata": {},
     "output_type": "execute_result"
    }
   ],
   "source": [
    "W[:, :3]"
   ]
  },
  {
   "cell_type": "code",
   "execution_count": 27,
   "id": "1faa47a4",
   "metadata": {},
   "outputs": [
    {
     "data": {
      "text/plain": [
       "array([[3],\n",
       "       [1],\n",
       "       [0],\n",
       "       [5]])"
      ]
     },
     "execution_count": 27,
     "metadata": {},
     "output_type": "execute_result"
    }
   ],
   "source": [
    "b = np.array([[3],[1],[0],[5]])\n",
    "b"
   ]
  },
  {
   "cell_type": "code",
   "execution_count": 28,
   "id": "50b059e5",
   "metadata": {},
   "outputs": [
    {
     "data": {
      "text/plain": [
       "array([[25],\n",
       "       [61],\n",
       "       [97]])"
      ]
     },
     "execution_count": 28,
     "metadata": {},
     "output_type": "execute_result"
    }
   ],
   "source": [
    "# 행렬곱\n",
    "np.matmul(W,b)"
   ]
  },
  {
   "cell_type": "code",
   "execution_count": 29,
   "id": "b6e82aaf",
   "metadata": {},
   "outputs": [
    {
     "ename": "ValueError",
     "evalue": "operands could not be broadcast together with shapes (3,4) (4,1) ",
     "output_type": "error",
     "traceback": [
      "\u001b[0;31m---------------------------------------------------------------------------\u001b[0m",
      "\u001b[0;31mValueError\u001b[0m                                Traceback (most recent call last)",
      "\u001b[0;32m<ipython-input-29-f5d2eea718df>\u001b[0m in \u001b[0;36m<module>\u001b[0;34m\u001b[0m\n\u001b[1;32m      1\u001b[0m \u001b[0;31m# 행렬의 MxN이 맞지 않는 경우\u001b[0m\u001b[0;34m\u001b[0m\u001b[0;34m\u001b[0m\u001b[0;34m\u001b[0m\u001b[0m\n\u001b[0;32m----> 2\u001b[0;31m \u001b[0mW\u001b[0m \u001b[0;34m*\u001b[0m \u001b[0mb\u001b[0m\u001b[0;34m\u001b[0m\u001b[0;34m\u001b[0m\u001b[0m\n\u001b[0m",
      "\u001b[0;31mValueError\u001b[0m: operands could not be broadcast together with shapes (3,4) (4,1) "
     ]
    }
   ],
   "source": [
    "# 행렬의 MxN이 맞지 않는 경우\n",
    "W * b"
   ]
  },
  {
   "cell_type": "markdown",
   "id": "b9bde311",
   "metadata": {},
   "source": [
    "ValueError: operands could not be broadcast together with shape D1, D2  \n",
    "값 에러: D1과 D2를 이용한 해당 조작은 이루어질 수 없다."
   ]
  },
  {
   "cell_type": "markdown",
   "id": "a12fc654",
   "metadata": {},
   "source": [
    "### Numpy의 Broadcasting\n",
    "\n",
    "기본적으로 같은 Type의 data에 대해서만 연산이 가능하지만,  \n",
    "numpy에서는 행렬의 크기가 달라도 연산 가능하도록 만들 수 있습니다."
   ]
  },
  {
   "cell_type": "code",
   "execution_count": 44,
   "id": "448a7722",
   "metadata": {},
   "outputs": [
    {
     "name": "stdout",
     "output_type": "stream",
     "text": [
      "[[ 1  3 32]\n",
      " [ 4  6 35]\n",
      " [ 7  9 38]]\n",
      "[[ 1  2  3]\n",
      " [ 5  6  7]\n",
      " [36 37 38]]\n"
     ]
    }
   ],
   "source": [
    "b1 = np.array([[1,2,3],[4,5,6],[7,8,9]])\n",
    "b2 = np.array([0,1,29])\n",
    "\n",
    "b3 = b2[:,None]\n",
    "\n",
    "print(b1 + b2)\n",
    "print(b1 + b3)"
   ]
  },
  {
   "cell_type": "code",
   "execution_count": 46,
   "id": "8ee1c9fe",
   "metadata": {},
   "outputs": [
    {
     "data": {
      "text/plain": [
       "(array([ 0,  1, 29]),\n",
       " array([[ 0],\n",
       "        [ 1],\n",
       "        [29]]))"
      ]
     },
     "execution_count": 46,
     "metadata": {},
     "output_type": "execute_result"
    }
   ],
   "source": [
    "b2, b3"
   ]
  },
  {
   "cell_type": "code",
   "execution_count": 47,
   "id": "8cb251a3",
   "metadata": {},
   "outputs": [
    {
     "data": {
      "text/plain": [
       "array([[  0,   2,  87],\n",
       "       [  0,   5, 174],\n",
       "       [  0,   8, 261]])"
      ]
     },
     "execution_count": 47,
     "metadata": {},
     "output_type": "execute_result"
    }
   ],
   "source": [
    "b1 * b2"
   ]
  },
  {
   "cell_type": "code",
   "execution_count": 48,
   "id": "9dbd6ec7",
   "metadata": {},
   "outputs": [
    {
     "data": {
      "text/plain": [
       "array([[  0,   0,   0],\n",
       "       [  4,   5,   6],\n",
       "       [203, 232, 261]])"
      ]
     },
     "execution_count": 48,
     "metadata": {},
     "output_type": "execute_result"
    }
   ],
   "source": [
    "b1 * b3"
   ]
  },
  {
   "cell_type": "code",
   "execution_count": 49,
   "id": "5ebb2e59",
   "metadata": {},
   "outputs": [
    {
     "name": "stdout",
     "output_type": "stream",
     "text": [
      "[[ 3  1 -1]\n",
      " [ 4  2  0]\n",
      " [ 5  3  1]]\n"
     ]
    }
   ],
   "source": [
    "t = np.array([1,2,3])[:,None]\n",
    "u = np.array([2,0,-2])\n",
    "\n",
    "print(t + u)"
   ]
  },
  {
   "cell_type": "code",
   "execution_count": 50,
   "id": "255422da",
   "metadata": {},
   "outputs": [
    {
     "data": {
      "text/plain": [
       "array([0., 0., 0.])"
      ]
     },
     "execution_count": 50,
     "metadata": {},
     "output_type": "execute_result"
    }
   ],
   "source": [
    "#영행렬\n",
    "#np.zeros(v) , v: 정수값 또는 튜플\n",
    "np.zeros(3)"
   ]
  },
  {
   "cell_type": "code",
   "execution_count": 57,
   "id": "825a5e2e",
   "metadata": {},
   "outputs": [
    {
     "data": {
      "text/plain": [
       "array([[0.],\n",
       "       [0.],\n",
       "       [0.]])"
      ]
     },
     "execution_count": 57,
     "metadata": {},
     "output_type": "execute_result"
    }
   ],
   "source": [
    "np.zeros((3, 1))"
   ]
  },
  {
   "cell_type": "code",
   "execution_count": 58,
   "id": "81c9c4af",
   "metadata": {},
   "outputs": [
    {
     "data": {
      "text/plain": [
       "array([[0., 0.],\n",
       "       [0., 0.],\n",
       "       [0., 0.],\n",
       "       [0., 0.]])"
      ]
     },
     "execution_count": 58,
     "metadata": {},
     "output_type": "execute_result"
    }
   ],
   "source": [
    "np.zeros((4, 2))"
   ]
  },
  {
   "cell_type": "code",
   "execution_count": 60,
   "id": "d9534201",
   "metadata": {},
   "outputs": [
    {
     "data": {
      "text/plain": [
       "array([1., 1., 1., 1.])"
      ]
     },
     "execution_count": 60,
     "metadata": {},
     "output_type": "execute_result"
    }
   ],
   "source": [
    "#일벡터\n",
    "np.ones(4)"
   ]
  },
  {
   "cell_type": "code",
   "execution_count": 62,
   "id": "874fcc36",
   "metadata": {},
   "outputs": [
    {
     "data": {
      "text/plain": [
       "array([[1., 0., 0.],\n",
       "       [0., 1., 0.],\n",
       "       [0., 0., 1.]])"
      ]
     },
     "execution_count": 62,
     "metadata": {},
     "output_type": "execute_result"
    }
   ],
   "source": [
    "#단위벡터\n",
    "np.eye(3)"
   ]
  },
  {
   "cell_type": "markdown",
   "id": "534f4e54",
   "metadata": {},
   "source": [
    "### 행렬식\n",
    "행렬식: 행렬을 대표하는 값 중 하나  \n",
    "선형변환 과정에서 Vector의 Scaling척도가 된다."
   ]
  },
  {
   "cell_type": "code",
   "execution_count": 65,
   "id": "aff1e80a",
   "metadata": {},
   "outputs": [
    {
     "data": {
      "text/plain": [
       "7.000000000000001"
      ]
     },
     "execution_count": 65,
     "metadata": {},
     "output_type": "execute_result"
    }
   ],
   "source": [
    "#행렬식\n",
    "arr = np.array([[2,3],[1,5]])\n",
    "#7이 나와야한다\n",
    "\n",
    "np.linalg.det(arr)"
   ]
  },
  {
   "cell_type": "markdown",
   "id": "df858738",
   "metadata": {},
   "source": [
    "### 역행렬"
   ]
  },
  {
   "cell_type": "code",
   "execution_count": 67,
   "id": "bc6a9814",
   "metadata": {},
   "outputs": [
    {
     "data": {
      "text/plain": [
       "array([[ 0.71428571, -0.42857143],\n",
       "       [-0.14285714,  0.28571429]])"
      ]
     },
     "execution_count": 67,
     "metadata": {},
     "output_type": "execute_result"
    }
   ],
   "source": [
    "arr_inv = np.linalg.inv(arr)\n",
    "arr_inv"
   ]
  },
  {
   "cell_type": "code",
   "execution_count": 68,
   "id": "851e3bfb",
   "metadata": {},
   "outputs": [
    {
     "data": {
      "text/plain": [
       "array([[1.00000000e+00, 0.00000000e+00],\n",
       "       [1.11022302e-16, 1.00000000e+00]])"
      ]
     },
     "execution_count": 68,
     "metadata": {},
     "output_type": "execute_result"
    }
   ],
   "source": [
    "np.matmul(arr, arr_inv)"
   ]
  },
  {
   "cell_type": "code",
   "execution_count": 69,
   "id": "109dee87",
   "metadata": {},
   "outputs": [
    {
     "data": {
      "text/plain": [
       "array([[1.00000000e+00, 0.00000000e+00],\n",
       "       [1.11022302e-16, 1.00000000e+00]])"
      ]
     },
     "execution_count": 69,
     "metadata": {},
     "output_type": "execute_result"
    }
   ],
   "source": [
    "arr @ arr_inv"
   ]
  },
  {
   "cell_type": "markdown",
   "id": "08c4900a",
   "metadata": {},
   "source": [
    "### 고유값과 고유벡터\n",
    ": 정방행렬 (nxn) A에 대해서 $Ax = \\lambda x$을 만족하는 $\\lambda$와 x를 각각 고유벡터와 고유값이라 한다."
   ]
  },
  {
   "cell_type": "code",
   "execution_count": 92,
   "id": "007724ab",
   "metadata": {},
   "outputs": [],
   "source": [
    "arr2 = np.array([[2,0, -1], [1, 1, -3], [-1,0,5]])"
   ]
  },
  {
   "cell_type": "code",
   "execution_count": 93,
   "id": "e109d9db",
   "metadata": {},
   "outputs": [
    {
     "data": {
      "text/plain": [
       "(array([1.        , 1.69722436, 5.30277564]),\n",
       " array([[ 0.        , -0.9496026 ,  0.23353599],\n",
       "        [ 1.        , -0.12485651,  0.59205664],\n",
       "        [ 0.        , -0.28751653, -0.77131697]]))"
      ]
     },
     "execution_count": 93,
     "metadata": {},
     "output_type": "execute_result"
    }
   ],
   "source": [
    "eig_val, eig_vec = np.linalg.eig(arr2)\n",
    "eig_val, eig_vec"
   ]
  },
  {
   "cell_type": "code",
   "execution_count": 94,
   "id": "b5659741",
   "metadata": {},
   "outputs": [
    {
     "data": {
      "text/plain": [
       "array([0., 1., 0.])"
      ]
     },
     "execution_count": 94,
     "metadata": {},
     "output_type": "execute_result"
    }
   ],
   "source": [
    "arr2 @ eig_vec[:,0]"
   ]
  },
  {
   "cell_type": "code",
   "execution_count": 95,
   "id": "a9bc9ed6",
   "metadata": {},
   "outputs": [
    {
     "data": {
      "text/plain": [
       "array([0., 1., 0.])"
      ]
     },
     "execution_count": 95,
     "metadata": {},
     "output_type": "execute_result"
    }
   ],
   "source": [
    "eig_val[0] * eig_vec[:,0]"
   ]
  },
  {
   "cell_type": "markdown",
   "id": "750e2c6d",
   "metadata": {},
   "source": [
    "### Exercise"
   ]
  },
  {
   "cell_type": "markdown",
   "id": "42f64337",
   "metadata": {},
   "source": [
    "#### 1. 어떤 벡터가 주어졌을 때, L2 norm을 구하는 함수 get_L2_norm()을 구현하시오\n",
    "- 매개변수: 1차원 벡터(np.array)\n",
    "- 반환값: 인자로 주어진 벡터의 L2 Norm값(number)"
   ]
  },
  {
   "cell_type": "markdown",
   "id": "278398b2",
   "metadata": {},
   "source": [
    "#### 2. 어떤 행렬이 singular matrix(특이 행렬)인지 확인하는 함수 is_singular()를 구현하시오\n",
    "- 매개변수: 2차원 벡터(np.array)\n",
    "- 반환값: 인자로 주어진 벡터가 singular하면 True, Non-singular면 False"
   ]
  },
  {
   "cell_type": "code",
   "execution_count": 102,
   "id": "4b9386d3",
   "metadata": {},
   "outputs": [],
   "source": [
    "import math"
   ]
  },
  {
   "cell_type": "code",
   "execution_count": 103,
   "id": "cbf6f68e",
   "metadata": {},
   "outputs": [],
   "source": [
    "def get_L2_norm(arr):\n",
    "    arr = np.reshape(arr, -1)\n",
    "    return math.sqrt(sum(map(lambda x:x**2, arr)))"
   ]
  },
  {
   "cell_type": "code",
   "execution_count": 105,
   "id": "7bbfe768",
   "metadata": {},
   "outputs": [
    {
     "data": {
      "text/plain": [
       "4.0"
      ]
     },
     "execution_count": 105,
     "metadata": {},
     "output_type": "execute_result"
    }
   ],
   "source": [
    "ret = get_L2_norm(np.array([1,3,2,1,1]))\n",
    "ret"
   ]
  },
  {
   "cell_type": "code",
   "execution_count": 109,
   "id": "1141fb8f",
   "metadata": {},
   "outputs": [],
   "source": [
    "def is_singular(arr):\n",
    "    if not np.linalg.det(arr):\n",
    "        return True\n",
    "    return False"
   ]
  },
  {
   "cell_type": "code",
   "execution_count": 110,
   "id": "03276312",
   "metadata": {},
   "outputs": [
    {
     "data": {
      "text/plain": [
       "True"
      ]
     },
     "execution_count": 110,
     "metadata": {},
     "output_type": "execute_result"
    }
   ],
   "source": [
    "is_singular([[1,3],[1,3]])"
   ]
  },
  {
   "cell_type": "code",
   "execution_count": null,
   "id": "6b26231d",
   "metadata": {},
   "outputs": [],
   "source": []
  }
 ],
 "metadata": {
  "kernelspec": {
   "display_name": "Python 3",
   "language": "python",
   "name": "python3"
  },
  "language_info": {
   "codemirror_mode": {
    "name": "ipython",
    "version": 3
   },
   "file_extension": ".py",
   "mimetype": "text/x-python",
   "name": "python",
   "nbconvert_exporter": "python",
   "pygments_lexer": "ipython3",
   "version": "3.9.4"
  }
 },
 "nbformat": 4,
 "nbformat_minor": 5
}
