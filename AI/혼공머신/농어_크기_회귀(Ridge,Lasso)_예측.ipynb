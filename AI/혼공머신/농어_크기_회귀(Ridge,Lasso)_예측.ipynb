{
  "nbformat": 4,
  "nbformat_minor": 0,
  "metadata": {
    "colab": {
      "name": "농어 크기 회귀(Ridge, Lasso) 예측.ipynb",
      "provenance": [],
      "authorship_tag": "ABX9TyNDgy5Fg0PZEg6UfPH/FBgP",
      "include_colab_link": true
    },
    "kernelspec": {
      "name": "python3",
      "display_name": "Python 3"
    },
    "language_info": {
      "name": "python"
    }
  },
  "cells": [
    {
      "cell_type": "markdown",
      "metadata": {
        "id": "view-in-github",
        "colab_type": "text"
      },
      "source": [
        "<a href=\"https://colab.research.google.com/github/xcellentbird/Study-Deep_Learning/blob/main/%EB%86%8D%EC%96%B4_%ED%81%AC%EA%B8%B0_%ED%9A%8C%EA%B7%80(Ridge%2C_Lasso)_%EC%98%88%EC%B8%A1.ipynb\" target=\"_parent\"><img src=\"https://colab.research.google.com/assets/colab-badge.svg\" alt=\"Open In Colab\"/></a>"
      ]
    },
    {
      "cell_type": "code",
      "metadata": {
        "colab": {
          "base_uri": "https://localhost:8080/"
        },
        "id": "oqAB8tEcqk2t",
        "outputId": "a71308ec-3e7a-4ce9-d631-62da8a4cc4bb"
      },
      "source": [
        "import numpy as np\n",
        "import pandas as pd\n",
        "# 데이터를 불러와 np 배열로 변환한다.\n",
        "perch_full = pd.read_csv('https://bit.ly/perch_csv').to_numpy()\n",
        "print(perch_full.shape)\n",
        "\n",
        "perch_length = np.array([8.4, 13.7, 15.0, 16.2, 17.4, 18.0, 18.7, 19.0, 19.6, 20.0, 21.0,\n",
        "       21.0, 21.0, 21.3, 22.0, 22.0, 22.0, 22.0, 22.0, 22.5, 22.5, 22.7,\n",
        "       23.0, 23.5, 24.0, 24.0, 24.6, 25.0, 25.6, 26.5, 27.3, 27.5, 27.5,\n",
        "       27.5, 28.0, 28.7, 30.0, 32.8, 34.5, 35.0, 36.5, 36.0, 37.0, 37.0,\n",
        "       39.0, 39.0, 39.0, 40.0, 40.0, 40.0, 40.0, 42.0, 43.0, 43.0, 43.5,\n",
        "       44.0])\n",
        "perch_weight = np.array([5.9, 32.0, 40.0, 51.5, 70.0, 100.0, 78.0, 80.0, 85.0, 85.0, 110.0,\n",
        "       115.0, 125.0, 130.0, 120.0, 120.0, 130.0, 135.0, 110.0, 130.0,\n",
        "       150.0, 145.0, 150.0, 170.0, 225.0, 145.0, 188.0, 180.0, 197.0,\n",
        "       218.0, 300.0, 260.0, 265.0, 250.0, 250.0, 300.0, 320.0, 514.0,\n",
        "       556.0, 840.0, 685.0, 700.0, 700.0, 690.0, 900.0, 650.0, 820.0,\n",
        "       850.0, 900.0, 1015.0, 820.0, 1100.0, 1000.0, 1100.0, 1000.0,\n",
        "       1000.0])"
      ],
      "execution_count": 32,
      "outputs": [
        {
          "output_type": "stream",
          "text": [
            "(56, 3)\n"
          ],
          "name": "stdout"
        }
      ]
    },
    {
      "cell_type": "code",
      "metadata": {
        "id": "m4cAZOpEq0eC"
      },
      "source": [
        "from sklearn.model_selection import train_test_split\n",
        "train_input, test_input, train_target, test_target = train_test_split(perch_full, perch_weight)"
      ],
      "execution_count": 33,
      "outputs": []
    },
    {
      "cell_type": "code",
      "metadata": {
        "colab": {
          "base_uri": "https://localhost:8080/"
        },
        "id": "Cm0g34hPtz84",
        "outputId": "80388540-474b-4c46-d7e5-5720fc43a5e7"
      },
      "source": [
        "from sklearn.preprocessing import PolynomialFeatures\n",
        "\n",
        "# PolynomialFeatures는 특성을 조합하여 새로운 특성을 만드는 역할을 한다.\n",
        "# 실행 후 shape를 확인하면 3가지 특성이 9가지 특성으로 늘어난 것을 볼 수 있다.\n",
        "# 학습셋을 fit한 poly를 이용하여 테스트셋도 transform해야한다\n",
        "poly = PolynomialFeatures(include_bias = False) # bias(절편)을 사용하지 않는다.\n",
        "train_poly = poly.fit_transform(train_input)\n",
        "test_poly = poly.transform(test_input)\n",
        "print(train_poly.shape, test_poly.shape)\n",
        "\n",
        "# Polynomial이 특성을 어떻게 조합했는지 볼 수 있다.\n",
        "poly.get_feature_names()\n"
      ],
      "execution_count": 34,
      "outputs": [
        {
          "output_type": "stream",
          "text": [
            "(42, 9) (14, 9)\n"
          ],
          "name": "stdout"
        },
        {
          "output_type": "execute_result",
          "data": {
            "text/plain": [
              "['x0', 'x1', 'x2', 'x0^2', 'x0 x1', 'x0 x2', 'x1^2', 'x1 x2', 'x2^2']"
            ]
          },
          "metadata": {
            "tags": []
          },
          "execution_count": 34
        }
      ]
    },
    {
      "cell_type": "code",
      "metadata": {
        "id": "QMi1aqUQujax"
      },
      "source": [
        "from sklearn.preprocessing import StandardScaler\n",
        "\n",
        "# StandardScalar 데이터를 정규화(평균을 빼고, 분산으로 나누는)하는 역할을 한다.\n",
        "ss = StandardScaler()\n",
        "train_scaled = ss.fit_transform(train_poly)\n",
        "test_scaled = ss.transform(test_poly)\n"
      ],
      "execution_count": 35,
      "outputs": []
    },
    {
      "cell_type": "code",
      "metadata": {
        "id": "TzBZ9ayswAhX"
      },
      "source": [
        "import matplotlib.pyplot as plt\n",
        "train_score = []\n",
        "test_score = []"
      ],
      "execution_count": 36,
      "outputs": []
    },
    {
      "cell_type": "code",
      "metadata": {
        "id": "wZ84qVmVzs-a"
      },
      "source": [
        "# 릿지와 라쏘는 모두 특성에 규제를 가함으로서(일부러 과소적합을 유도) 과대적합을 막는 역할을 한다.\n",
        "# 릿지는 다차항수의 계수를 제곱한 값을 기준으로 규제를 적용하고,\n",
        "# 라쏘는 계수의 절댓값을 기준으로 규제를 적용합니다."
      ],
      "execution_count": null,
      "outputs": []
    },
    {
      "cell_type": "code",
      "metadata": {
        "id": "bEec5tsrvaSI"
      },
      "source": [
        "\n",
        "from sklearn.linear_model import Ridge\n",
        "\n",
        "# alpha 값이 크면 규제 강도가 세지므로 계수 값을 더 줄이고 조금 더 과소적합으로 유도\n",
        "alpha_list = [10**n for n in range(-3, 3)]\n",
        "for alpha in alpha_list:\n",
        "  ridge = Ridge(alpha=alpha)\n",
        "  ridge.fit(train_scaled, train_target)\n",
        "  train_score.append(ridge.score(train_scaled, train_target)) # 학습 점수\n",
        "  test_score.append(ridge.score(test_scaled, test_target)) # 테스트 점수"
      ],
      "execution_count": 37,
      "outputs": []
    },
    {
      "cell_type": "code",
      "metadata": {
        "colab": {
          "base_uri": "https://localhost:8080/",
          "height": 265
        },
        "id": "XAvseuBOwOBJ",
        "outputId": "d1802e39-c5c5-4c7a-dcbe-e3c629c44d03"
      },
      "source": [
        "plt.plot(np.log10(alpha_list), train_score)\n",
        "plt.plot(np.log10(alpha_list), test_score)\n",
        "plt.show()\n",
        "\n",
        "# 차트에서 학습 점수와 테스트 점수가 차이가 나면 과대적합으로 본다.\n",
        "# 차트에서 학습 점수와 테스트 점수가 모두 낮으면 과소적합으로 본다."
      ],
      "execution_count": 38,
      "outputs": [
        {
          "output_type": "display_data",
          "data": {
            "image/png": "[encoded data removed]",
            "text/plain": [
              "<Figure size 432x288 with 1 Axes>"
            ]
          },
          "metadata": {
            "tags": [],
            "needs_background": "light"
          }
        }
      ]
    },
    {
      "cell_type": "code",
      "metadata": {
        "id": "RP_nceUxwdQc"
      },
      "source": [
        "from sklearn.linear_model import Lasso\n",
        "\n",
        "train_score = []\n",
        "test_score = []\n",
        "\n",
        "# alpha 값이 크면 규제 강도가 세지므로 계수 값을 더 줄이고 조금 더 과소적합으로 유도\n",
        "# max_iter(반복 횟수)를 올려 warning을 없앨 수 있다.\n",
        "for alpha in alpha_list:\n",
        "  lasso = Lasso(alpha=alpha, max_iter = 1000000)\n",
        "  lasso.fit(train_scaled, train_target)\n",
        "  train_score.append(lasso.score(train_scaled, train_target))\n",
        "  test_score.append(lasso.score(test_scaled, test_target))"
      ],
      "execution_count": 41,
      "outputs": []
    },
    {
      "cell_type": "code",
      "metadata": {
        "colab": {
          "base_uri": "https://localhost:8080/"
        },
        "id": "yOB5FqUm0X5R",
        "outputId": "3eaeafd8-7fb3-48dd-cfc5-5a7d8ce97d95"
      },
      "source": [
        "print(np.sum(lasso.coef_ == 0)) # 몇개의 특성(계수)를 0으로 만들었는지 확인할 수 있다."
      ],
      "execution_count": 42,
      "outputs": [
        {
          "output_type": "stream",
          "text": [
            "7\n"
          ],
          "name": "stdout"
        }
      ]
    },
    {
      "cell_type": "code",
      "metadata": {
        "colab": {
          "base_uri": "https://localhost:8080/",
          "height": 268
        },
        "id": "yI1rBdbAxV31",
        "outputId": "0b7f7042-3bc3-46a6-90cc-2be85dd43abe"
      },
      "source": [
        "plt.plot(np.log10(alpha_list), train_score)\n",
        "plt.plot(np.log10(alpha_list), test_score)\n",
        "plt.show()"
      ],
      "execution_count": 40,
      "outputs": [
        {
          "output_type": "display_data",
          "data": {
            "image/png": "[encoded data removed]",
            "text/plain": [
              "<Figure size 432x288 with 1 Axes>"
            ]
          },
          "metadata": {
            "tags": [],
            "needs_background": "light"
          }
        }
      ]
    },
    {
      "cell_type": "code",
      "metadata": {
        "id": "7gVrpLdLxqmp"
      },
      "source": [
        "# +) score(결정계수)내는 원리: R^2 = 1 - ((타깃 - 예측)^2 / (타깃 - 평균)^2))\n",
        "# score는 높을수록 좋다."
      ],
      "execution_count": 40,
      "outputs": []
    }
  ]
}
