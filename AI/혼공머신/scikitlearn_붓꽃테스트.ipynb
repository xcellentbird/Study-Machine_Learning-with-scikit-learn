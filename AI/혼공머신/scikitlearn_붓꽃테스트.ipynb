{
  "nbformat": 4,
  "nbformat_minor": 0,
  "metadata": {
    "colab": {
      "name": "scikitlearn-붓꽃테스트.ipynb",
      "provenance": []
    },
    "kernelspec": {
      "name": "python3",
      "display_name": "Python 3"
    }
  },
  "cells": [
    {
      "cell_type": "code",
      "metadata": {
        "id": "YmrcsZ1ChprI"
      },
      "source": [
        "from sklearn.datasets import load_iris\r\n",
        "from sklearn.tree import DecisionTreeClassifier\r\n",
        "from sklearn.model_selection import train_test_split"
      ],
      "execution_count": 41,
      "outputs": []
    },
    {
      "cell_type": "code",
      "metadata": {
        "id": "mN4rB8s5h_pt"
      },
      "source": [
        "# 붓꽃 데이터 세트 로딩\r\n",
        "iris = load_iris() # csv형태의 자료를 로딩. data, feature_names, filename, target, target_names\r\n",
        "\r\n",
        "#print('datas:',iris.data)\r\n",
        "#print('feature이름:', iris.feature_names)\r\n",
        "#print('target값:', iris.target)\r\n",
        "#print('target이름:', iris.target_names)"
      ],
      "execution_count": 42,
      "outputs": []
    },
    {
      "cell_type": "code",
      "metadata": {
        "colab": {
          "base_uri": "https://localhost:8080/"
        },
        "id": "KpLpoAQmiyCG",
        "outputId": "094bedc1-b283-4a50-97ba-9bf439af6252"
      },
      "source": [
        "# train 데이터, 타겟과, test 데이터, 타겟으로 나눕니다.\r\n",
        "# train data는 전체의 80%, test data는 20%, train, test 데이터셋을 임의로 나누기 위한 난수 값 발생 param = random_state\r\n",
        "X_train, X_test, y_train, y_test = train_test_split(iris.data, iris.target, test_size= 0.2)\r\n",
        "\r\n",
        "dt_clf = DecisionTreeClassifier() # 의사결정트리 분류기 선언\r\n",
        "dt_clf.fit(X_train, y_train) # train 데이터를 이용하여 의사결정트리 분류 학습을 진행한다.\r\n",
        "\r\n",
        "pred = dt_clf.predict(X_test)\r\n",
        "# 학습된 분류기에 테스트 데이터를 넣고 결과 레이블을 얻는다\r\n",
        "pred"
      ],
      "execution_count": 43,
      "outputs": [
        {
          "output_type": "execute_result",
          "data": {
            "text/plain": [
              "array([0, 1, 1, 2, 2, 0, 0, 1, 1, 1, 0, 0, 1, 1, 1, 1, 0, 2, 1, 1, 0, 2,\n",
              "       2, 1, 2, 2, 0, 0, 2, 0])"
            ]
          },
          "metadata": {
            "tags": []
          },
          "execution_count": 43
        }
      ]
    },
    {
      "cell_type": "code",
      "metadata": {
        "colab": {
          "base_uri": "https://localhost:8080/"
        },
        "id": "9ZjWwXoyu58I",
        "outputId": "974797ae-e99e-4aa0-c0a6-6e76ec9f9eb3"
      },
      "source": [
        "from sklearn.metrics import accuracy_score\r\n",
        "print('예측 정확도: {0:.4f}'.format(accuracy_score(y_test, pred)))"
      ],
      "execution_count": 44,
      "outputs": [
        {
          "output_type": "stream",
          "text": [
            "예측 정확도: 0.9667\n"
          ],
          "name": "stdout"
        }
      ]
    }
  ]
}
