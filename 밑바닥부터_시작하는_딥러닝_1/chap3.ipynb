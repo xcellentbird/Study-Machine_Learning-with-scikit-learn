{
  "nbformat": 4,
  "nbformat_minor": 0,
  "metadata": {
    "colab": {
      "name": "밑바닥부터_시작하는_딥러닝_1-chap3.ipynb",
      "provenance": [],
      "authorship_tag": "ABX9TyNPFT1K6n858xgC1+FW4huX",
      "include_colab_link": true
    },
    "kernelspec": {
      "name": "python3",
      "display_name": "Python 3"
    },
    "language_info": {
      "name": "python"
    }
  },
  "cells": [
    {
      "cell_type": "markdown",
      "metadata": {
        "id": "view-in-github",
        "colab_type": "text"
      },
      "source": [
        "<a href=\"https://colab.research.google.com/github/xcellentbird/Machine_Learning/blob/main/%EB%B0%91%EB%B0%94%EB%8B%A5%EB%B6%80%ED%84%B0_%EC%8B%9C%EC%9E%91%ED%95%98%EB%8A%94_%EB%94%A5%EB%9F%AC%EB%8B%9D_1/chap3.ipynb\" target=\"_parent\"><img src=\"https://colab.research.google.com/assets/colab-badge.svg\" alt=\"Open In Colab\"/></a>"
      ]
    },
    {
      "cell_type": "markdown",
      "metadata": {
        "id": "1PdPAj7QMqci"
      },
      "source": [
        "## 3.2 활성화 함수"
      ]
    },
    {
      "cell_type": "code",
      "metadata": {
        "id": "L3SC4eF-Txyx"
      },
      "source": [
        "import numpy as np\n",
        "import matplotlib.pyplot as plt\n",
        "import torch"
      ],
      "execution_count": 58,
      "outputs": []
    },
    {
      "cell_type": "markdown",
      "metadata": {
        "id": "1TcCSyQGURFM"
      },
      "source": [
        "### Step Function"
      ]
    },
    {
      "cell_type": "code",
      "metadata": {
        "id": "v8LNfhe5Txra"
      },
      "source": [
        "def step_function(x):\n",
        "  #return np.array(x > 0, dtype=int)\n",
        "  return torch.tensor(x > 0, dtype=int)"
      ],
      "execution_count": 59,
      "outputs": []
    },
    {
      "cell_type": "code",
      "metadata": {
        "colab": {
          "base_uri": "https://localhost:8080/",
          "height": 301
        },
        "id": "HSpDh_VqUDcO",
        "outputId": "d2d7f237-303c-48b0-a6de-b1ebbc3f07ab"
      },
      "source": [
        "#x = np.arange(-5, 5, 0.1)\n",
        "x = torch.arange(-5, 5, 0.1)\n",
        "y = step_function(x)\n",
        "plt.plot(x, y)\n",
        "plt.show()"
      ],
      "execution_count": 60,
      "outputs": [
        {
          "output_type": "stream",
          "text": [
            "/usr/local/lib/python3.7/dist-packages/ipykernel_launcher.py:3: UserWarning: To copy construct from a tensor, it is recommended to use sourceTensor.clone().detach() or sourceTensor.clone().detach().requires_grad_(True), rather than torch.tensor(sourceTensor).\n",
            "  This is separate from the ipykernel package so we can avoid doing imports until\n"
          ],
          "name": "stderr"
        },
        {
          "output_type": "display_data",
          "data": {
            "image/png": "[encoded data removed]",
            "text/plain": [
              "<Figure size 432x288 with 1 Axes>"
            ]
          },
          "metadata": {
            "tags": [],
            "needs_background": "light"
          }
        }
      ]
    },
    {
      "cell_type": "markdown",
      "metadata": {
        "id": "vTg5lGhRUVVo"
      },
      "source": [
        "### Sigmoid Function"
      ]
    },
    {
      "cell_type": "code",
      "metadata": {
        "id": "Tg8pmcsdUM1e"
      },
      "source": [
        "def sigmoid(x):\n",
        "  #return 1 / (1 + np.exp(-x))\n",
        "  return 1 / (1 + torch.exp(-x))"
      ],
      "execution_count": 61,
      "outputs": []
    },
    {
      "cell_type": "code",
      "metadata": {
        "colab": {
          "base_uri": "https://localhost:8080/",
          "height": 265
        },
        "id": "N-tpJvloUePw",
        "outputId": "9886dc21-b035-4392-e8b2-42c790852e59"
      },
      "source": [
        "x = torch.arange(-5, 5, 0.1)\n",
        "y = sigmoid(x)\n",
        "plt.plot(x, y)\n",
        "plt.show()"
      ],
      "execution_count": 62,
      "outputs": [
        {
          "output_type": "display_data",
          "data": {
            "image/png": "[encoded data removed]",
            "text/plain": [
              "<Figure size 432x288 with 1 Axes>"
            ]
          },
          "metadata": {
            "tags": [],
            "needs_background": "light"
          }
        }
      ]
    },
    {
      "cell_type": "markdown",
      "metadata": {
        "id": "NqokOTw6VFnN"
      },
      "source": [
        "### ReLU Function"
      ]
    },
    {
      "cell_type": "code",
      "metadata": {
        "id": "Ry0SuVCwUgde"
      },
      "source": [
        "def relu(x):\n",
        "  #return np.maximum(0, x)\n",
        "  return torch.maximum(torch.tensor(0), x)"
      ],
      "execution_count": 74,
      "outputs": []
    },
    {
      "cell_type": "code",
      "metadata": {
        "colab": {
          "base_uri": "https://localhost:8080/",
          "height": 265
        },
        "id": "N5ejByULVJ_2",
        "outputId": "2ecefd91-adaf-44bf-c152-6158bd565780"
      },
      "source": [
        "x = torch.arange(-5, 5, 0.1)\n",
        "y = relu(x)\n",
        "plt.plot(x, y)\n",
        "plt.show()"
      ],
      "execution_count": 75,
      "outputs": [
        {
          "output_type": "display_data",
          "data": {
            "image/png": "[encoded data removed]",
            "text/plain": [
              "<Figure size 432x288 with 1 Axes>"
            ]
          },
          "metadata": {
            "tags": [],
            "needs_background": "light"
          }
        }
      ]
    },
    {
      "cell_type": "code",
      "metadata": {
        "colab": {
          "base_uri": "https://localhost:8080/"
        },
        "id": "UaUWqx-6VOLH",
        "outputId": "907ab581-4880-4d83-c4de-329a455cbb5e"
      },
      "source": [
        "A = torch.tensor([[1, 2], [3, 4]])\n",
        "B = torch.tensor([[5, 6], [7, 8]])\n",
        "np.dot(A, B), torch.mm(A, B)"
      ],
      "execution_count": 120,
      "outputs": [
        {
          "output_type": "execute_result",
          "data": {
            "text/plain": [
              "(array([[19, 22],\n",
              "        [43, 50]]), tensor([[19, 22],\n",
              "         [43, 50]]))"
            ]
          },
          "metadata": {
            "tags": []
          },
          "execution_count": 120
        }
      ]
    },
    {
      "cell_type": "code",
      "metadata": {
        "colab": {
          "base_uri": "https://localhost:8080/"
        },
        "id": "_1U3E-SdW4bP",
        "outputId": "0700d75e-0c32-4428-fd9b-60b09fff7fef"
      },
      "source": [
        "A = torch.Tensor([[1, 2], [3, 4]])\n",
        "B = torch.Tensor([[5, 6], [7, 8]])\n",
        "np.dot(A, B), torch.mm(A, B)"
      ],
      "execution_count": 121,
      "outputs": [
        {
          "output_type": "execute_result",
          "data": {
            "text/plain": [
              "(array([[19., 22.],\n",
              "        [43., 50.]], dtype=float32), tensor([[19., 22.],\n",
              "         [43., 50.]]))"
            ]
          },
          "metadata": {
            "tags": []
          },
          "execution_count": 121
        }
      ]
    },
    {
      "cell_type": "code",
      "metadata": {
        "colab": {
          "base_uri": "https://localhost:8080/"
        },
        "id": "TpfQfDtjW7ju",
        "outputId": "7243243c-2c6a-4fbb-d711-3e0e157e7b04"
      },
      "source": [
        "torch.tensor(0), torch.tensor(2), torch.tensor([2, 5]), type(torch.tensor(12))"
      ],
      "execution_count": 136,
      "outputs": [
        {
          "output_type": "execute_result",
          "data": {
            "text/plain": [
              "(tensor(0), tensor(2), tensor([2, 5]), torch.Tensor)"
            ]
          },
          "metadata": {
            "tags": []
          },
          "execution_count": 136
        }
      ]
    },
    {
      "cell_type": "code",
      "metadata": {
        "colab": {
          "base_uri": "https://localhost:8080/"
        },
        "id": "3xgzl7NgYvYf",
        "outputId": "6dd7caf0-219d-4cbb-d761-de3f378a4886"
      },
      "source": [
        "torch.Tensor(0), torch.Tensor(5), torch.Tensor([2, 5]), torch.Tensor(2, 3), type(torch.tensor([12]))"
      ],
      "execution_count": 135,
      "outputs": [
        {
          "output_type": "execute_result",
          "data": {
            "text/plain": [
              "(tensor([]),\n",
              " tensor([4.4721e-14, 3.0729e-41, 1.5975e-43, 1.3873e-43, 1.4574e-43]),\n",
              " tensor([2., 5.]),\n",
              " tensor([[4.4723e-14, 3.0729e-41, 3.9236e-44],\n",
              "         [0.0000e+00,        nan,        nan]]),\n",
              " torch.Tensor)"
            ]
          },
          "metadata": {
            "tags": []
          },
          "execution_count": 135
        }
      ]
    },
    {
      "cell_type": "code",
      "metadata": {
        "colab": {
          "base_uri": "https://localhost:8080/"
        },
        "id": "RMBThO0hYwrf",
        "outputId": "7f144ce8-59dc-481a-bc5b-75a7f5e27350"
      },
      "source": [
        "A.ndim, A.shape, A.size(), A.shape[1], A.size()[1], A.size(1)"
      ],
      "execution_count": 129,
      "outputs": [
        {
          "output_type": "execute_result",
          "data": {
            "text/plain": [
              "(2, torch.Size([2, 2]), torch.Size([2, 2]), 2, 2, 2)"
            ]
          },
          "metadata": {
            "tags": []
          },
          "execution_count": 129
        }
      ]
    },
    {
      "cell_type": "code",
      "metadata": {
        "colab": {
          "base_uri": "https://localhost:8080/"
        },
        "id": "sPFoEcN7ZL0-",
        "outputId": "865eba33-b0b3-4f4d-b4bc-556e95c07f2a"
      },
      "source": [
        "0.1**2"
      ],
      "execution_count": 132,
      "outputs": [
        {
          "output_type": "execute_result",
          "data": {
            "text/plain": [
              "0.010000000000000002"
            ]
          },
          "metadata": {
            "tags": []
          },
          "execution_count": 132
        }
      ]
    },
    {
      "cell_type": "code",
      "metadata": {
        "colab": {
          "base_uri": "https://localhost:8080/"
        },
        "id": "uhE5OS-_bQKS",
        "outputId": "c0995de8-496b-4bb8-d621-9f155f587945"
      },
      "source": [
        "torch.tensor(0.1)**2"
      ],
      "execution_count": 133,
      "outputs": [
        {
          "output_type": "execute_result",
          "data": {
            "text/plain": [
              "tensor(0.0100)"
            ]
          },
          "metadata": {
            "tags": []
          },
          "execution_count": 133
        }
      ]
    },
    {
      "cell_type": "markdown",
      "metadata": {
        "id": "aAw_PTQUdmkF"
      },
      "source": [
        "### 각 층의 신호 전달 구현"
      ]
    },
    {
      "cell_type": "code",
      "metadata": {
        "id": "arA1g_XYdmJe"
      },
      "source": [
        "X = torch.Tensor([1.0, 0.5])\n",
        "W1 = torch.Tensor([[0.1, 0.3, 0.5], [0.2, 0.4, 0.6]])\n",
        "B1 = torch.Tensor([0.1, 0.2, 0.3])"
      ],
      "execution_count": 137,
      "outputs": []
    },
    {
      "cell_type": "code",
      "metadata": {
        "colab": {
          "base_uri": "https://localhost:8080/"
        },
        "id": "r-DrrCj1bTiK",
        "outputId": "d532e526-2389-4e73-9c22-5fbbf52f71e9"
      },
      "source": [
        "A1 = X.matmul(W1) # X.mm(W1)은 오류\n",
        "A1"
      ],
      "execution_count": 142,
      "outputs": [
        {
          "output_type": "execute_result",
          "data": {
            "text/plain": [
              "tensor([0.2000, 0.5000, 0.8000])"
            ]
          },
          "metadata": {
            "tags": []
          },
          "execution_count": 142
        }
      ]
    },
    {
      "cell_type": "code",
      "metadata": {
        "colab": {
          "base_uri": "https://localhost:8080/"
        },
        "id": "7tF3FlsLeDj5",
        "outputId": "b4ae73ac-ff03-458c-bd40-4c6edc05ce1b"
      },
      "source": [
        "Z1 = sigmoid(A1)\n",
        "Z1"
      ],
      "execution_count": 144,
      "outputs": [
        {
          "output_type": "execute_result",
          "data": {
            "text/plain": [
              "tensor([0.5498, 0.6225, 0.6900])"
            ]
          },
          "metadata": {
            "tags": []
          },
          "execution_count": 144
        }
      ]
    },
    {
      "cell_type": "code",
      "metadata": {
        "id": "l1EWrh3_ekFJ"
      },
      "source": [
        "W2 = torch.Tensor([[0.1, 0.4], [0.2, 0.5], [0.3, 0.6]])\n",
        "B2 = torch.Tensor([0.1, 0.2])"
      ],
      "execution_count": 145,
      "outputs": []
    },
    {
      "cell_type": "code",
      "metadata": {
        "colab": {
          "base_uri": "https://localhost:8080/"
        },
        "id": "t751sUkFex_O",
        "outputId": "4fb4af4b-f12f-4081-83a2-b4ad70d47fea"
      },
      "source": [
        "A2 = torch.matmul(Z1, W2) + B2\n",
        "A2"
      ],
      "execution_count": 148,
      "outputs": [
        {
          "output_type": "execute_result",
          "data": {
            "text/plain": [
              "tensor([0.4865, 1.1451])"
            ]
          },
          "metadata": {
            "tags": []
          },
          "execution_count": 148
        }
      ]
    },
    {
      "cell_type": "code",
      "metadata": {
        "colab": {
          "base_uri": "https://localhost:8080/"
        },
        "id": "oh6CT4TZe2we",
        "outputId": "4f4ca21b-93b7-49de-c17c-54b5c235d72b"
      },
      "source": [
        "Z2 = sigmoid(A2)\n",
        "Z2"
      ],
      "execution_count": 149,
      "outputs": [
        {
          "output_type": "execute_result",
          "data": {
            "text/plain": [
              "tensor([0.6193, 0.7586])"
            ]
          },
          "metadata": {
            "tags": []
          },
          "execution_count": 149
        }
      ]
    },
    {
      "cell_type": "code",
      "metadata": {
        "id": "LQoj2Uyse8--"
      },
      "source": [
        "def identity_function(x):\n",
        "  return x"
      ],
      "execution_count": 150,
      "outputs": []
    },
    {
      "cell_type": "code",
      "metadata": {
        "id": "vKLewu8kfHaO"
      },
      "source": [
        "W3 = torch.Tensor([[0.1, 0.3], [0.2, 0.4]])\n",
        "B3 = torch.Tensor([0.1, 0.2])"
      ],
      "execution_count": 151,
      "outputs": []
    },
    {
      "cell_type": "code",
      "metadata": {
        "colab": {
          "base_uri": "https://localhost:8080/"
        },
        "id": "Tjtaa5x7fPh2",
        "outputId": "21958b0c-bf24-4442-ed99-c9b4b1fef78b"
      },
      "source": [
        "A3 = torch.matmul(Z2, W3) + B3\n",
        "A3"
      ],
      "execution_count": 152,
      "outputs": [
        {
          "output_type": "execute_result",
          "data": {
            "text/plain": [
              "tensor([0.3137, 0.6892])"
            ]
          },
          "metadata": {
            "tags": []
          },
          "execution_count": 152
        }
      ]
    },
    {
      "cell_type": "code",
      "metadata": {
        "id": "14NDstvifTRD"
      },
      "source": [
        "Y = identity_function(A3)"
      ],
      "execution_count": 153,
      "outputs": []
    },
    {
      "cell_type": "markdown",
      "metadata": {
        "id": "S_HgX723g5Fp"
      },
      "source": [
        "### Softmax Function"
      ]
    },
    {
      "cell_type": "code",
      "metadata": {
        "id": "39sbBi1HfV0G"
      },
      "source": [
        "def softmax(a):\n",
        "  exp_a = torch.exp(a)\n",
        "  sum_exp_a = torch.sum(exp_a)\n",
        "  y = exp_a / sum_exp_a\n",
        "  return y"
      ],
      "execution_count": 154,
      "outputs": []
    },
    {
      "cell_type": "code",
      "metadata": {
        "colab": {
          "base_uri": "https://localhost:8080/"
        },
        "id": "Akmq-49yhGYA",
        "outputId": "aa651bf5-2d02-4900-802b-7803a2989d28"
      },
      "source": [
        "a = torch.Tensor([1010, 1000, 990])\n",
        "softmax(a)"
      ],
      "execution_count": 155,
      "outputs": [
        {
          "output_type": "execute_result",
          "data": {
            "text/plain": [
              "tensor([nan, nan, nan])"
            ]
          },
          "metadata": {
            "tags": []
          },
          "execution_count": 155
        }
      ]
    },
    {
      "cell_type": "code",
      "metadata": {
        "id": "b2OE4ejXhof0"
      },
      "source": [
        "def softmax(a):\n",
        "  c = torch.max(a)\n",
        "  exp_a = torch.exp(a-c)\n",
        "  sum_exp_a = torch.sum(exp_a)\n",
        "  y = exp_a / sum_exp_a\n",
        "  return y"
      ],
      "execution_count": 156,
      "outputs": []
    },
    {
      "cell_type": "code",
      "metadata": {
        "colab": {
          "base_uri": "https://localhost:8080/"
        },
        "id": "WqaNzNo2hzW3",
        "outputId": "e9297df0-4d6d-48df-f0b8-ba986ffd5040"
      },
      "source": [
        "softmax(a)"
      ],
      "execution_count": 157,
      "outputs": [
        {
          "output_type": "execute_result",
          "data": {
            "text/plain": [
              "tensor([9.9995e-01, 4.5398e-05, 2.0611e-09])"
            ]
          },
          "metadata": {
            "tags": []
          },
          "execution_count": 157
        }
      ]
    },
    {
      "cell_type": "code",
      "metadata": {
        "id": "eaUlWGtrh0oD"
      },
      "source": [
        ""
      ],
      "execution_count": null,
      "outputs": []
    }
  ]
}