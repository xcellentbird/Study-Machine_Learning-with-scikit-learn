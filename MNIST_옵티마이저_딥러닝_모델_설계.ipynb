{
  "nbformat": 4,
  "nbformat_minor": 0,
  "metadata": {
    "colab": {
      "name": "MNIST 옵티마이저 딥러닝 모델 설계.ipynb",
      "provenance": [],
      "authorship_tag": "ABX9TyMrVKFuhDNSWDtvyK4OAjK+",
      "include_colab_link": true
    },
    "kernelspec": {
      "name": "python3",
      "display_name": "Python 3"
    },
    "language_info": {
      "name": "python"
    }
  },
  "cells": [
    {
      "cell_type": "markdown",
      "metadata": {
        "id": "view-in-github",
        "colab_type": "text"
      },
      "source": [
        "<a href=\"https://colab.research.google.com/github/xcellentbird/Study-Deep_Learning/blob/main/MNIST_%EC%98%B5%ED%8B%B0%EB%A7%88%EC%9D%B4%EC%A0%80_%EB%94%A5%EB%9F%AC%EB%8B%9D_%EB%AA%A8%EB%8D%B8_%EC%84%A4%EA%B3%84.ipynb\" target=\"_parent\"><img src=\"https://colab.research.google.com/assets/colab-badge.svg\" alt=\"Open In Colab\"/></a>"
      ]
    },
    {
      "cell_type": "code",
      "metadata": {
        "colab": {
          "base_uri": "https://localhost:8080/"
        },
        "id": "D3FZSJQje38K",
        "outputId": "18fcd99a-b5da-4dd4-eb7b-8d05c57057fc"
      },
      "source": [
        "from tensorflow import keras\n",
        "\n",
        "# MNIST 데이터셋을 불러와 학습, 테스트셋으로 나눕니다.\n",
        "(train_input, train_target), (test_input, test_target) = keras.datasets.fashion_mnist.load_data()\n",
        "\n",
        "# 28*28 픽셀의 이미지가 학습과 테슷트셋에 60000,10000개 있는 것을 확인할 수 있습니다.\n",
        "print(train_input.shape, train_target.shape)\n",
        "print(test_input.shape, test_target.shape)"
      ],
      "execution_count": 35,
      "outputs": [
        {
          "output_type": "stream",
          "text": [
            "(60000, 28, 28) (60000,)\n",
            "(10000, 28, 28) (10000,)\n"
          ],
          "name": "stdout"
        }
      ]
    },
    {
      "cell_type": "code",
      "metadata": {
        "colab": {
          "base_uri": "https://localhost:8080/"
        },
        "id": "QNncAV_3fS4s",
        "outputId": "e20747ed-ee8b-4b01-ea75-ee9cb17ff433"
      },
      "source": [
        "from sklearn.model_selection import train_test_split\n",
        "\n",
        "train_scaled = train_input / 255.0 # 픽셀 데이터 정구화\n",
        "train_scaled, val_scaled, train_target, val_target = train_test_split(train_scaled, train_target, test_size=0.2, random_state= 45)\n",
        "print(train_scaled.shape, train_target.shape)\n",
        "print(val_scaled.shape, val_target.shape)"
      ],
      "execution_count": 36,
      "outputs": [
        {
          "output_type": "stream",
          "text": [
            "(48000, 28, 28) (48000,)\n",
            "(12000, 28, 28) (12000,)\n"
          ],
          "name": "stdout"
        }
      ]
    },
    {
      "cell_type": "code",
      "metadata": {
        "colab": {
          "base_uri": "https://localhost:8080/"
        },
        "id": "QAIgaVrAhvKB",
        "outputId": "4d122f06-6578-4d2d-ce0d-69d332a12e66"
      },
      "source": [
        "model = keras.Sequential()\n",
        "model.add(keras.layers.Flatten(input_shape = (28,28))) # 28*28픽셀을 펴준다\n",
        "model.add(keras.layers.Dense(100, activation='sigmoid')) # 활성함수는 sigmoid(이진 분류에 쓰인다)\n",
        "model.add(keras.layers.Dense(10, activation='softmax')) # Softmax는 분류 결과를 확률로 표현해준다\n",
        "\n",
        "model.summary()"
      ],
      "execution_count": 37,
      "outputs": [
        {
          "output_type": "stream",
          "text": [
            "Model: \"sequential_9\"\n",
            "_________________________________________________________________\n",
            "Layer (type)                 Output Shape              Param #   \n",
            "=================================================================\n",
            "flatten_9 (Flatten)          (None, 784)               0         \n",
            "_________________________________________________________________\n",
            "dense_18 (Dense)             (None, 100)               78500     \n",
            "_________________________________________________________________\n",
            "dense_19 (Dense)             (None, 10)                1010      \n",
            "=================================================================\n",
            "Total params: 79,510\n",
            "Trainable params: 79,510\n",
            "Non-trainable params: 0\n",
            "_________________________________________________________________\n"
          ],
          "name": "stdout"
        }
      ]
    },
    {
      "cell_type": "code",
      "metadata": {
        "colab": {
          "base_uri": "https://localhost:8080/"
        },
        "id": "q6p1o0NeihZv",
        "outputId": "f81b99e4-316d-496b-bcbc-18aa06df3e7a"
      },
      "source": [
        "# optimizer를 명명하지 않으면, 기본적으로 RMSprop이 사용된다.\n",
        "# 손실함수 = sparse_categorical_crossentropy: 다중 분류에서 정수로된 타깃값을 사용해 크로스 엔트로피 손실을 계산\n",
        "model.compile(loss='sparse_categorical_crossentropy', metrics='accuracy')\n",
        "\n",
        "# batch_size는 기본적으로 32개\n",
        "model.fit(train_scaled, train_target, epochs=5)\n",
        "\n",
        "sigmoid_RMS = model.evaluate(val_scaled, val_target)"
      ],
      "execution_count": 38,
      "outputs": [
        {
          "output_type": "stream",
          "text": [
            "Epoch 1/5\n",
            "1500/1500 [==============================] - 4s 2ms/step - loss: 0.7761 - accuracy: 0.7479\n",
            "Epoch 2/5\n",
            "1500/1500 [==============================] - 4s 2ms/step - loss: 0.4140 - accuracy: 0.8502\n",
            "Epoch 3/5\n",
            "1500/1500 [==============================] - 3s 2ms/step - loss: 0.3751 - accuracy: 0.8656\n",
            "Epoch 4/5\n",
            "1500/1500 [==============================] - 4s 2ms/step - loss: 0.3488 - accuracy: 0.8745\n",
            "Epoch 5/5\n",
            "1500/1500 [==============================] - 4s 2ms/step - loss: 0.3294 - accuracy: 0.8809\n",
            "375/375 [==============================] - 1s 1ms/step - loss: 0.3477 - accuracy: 0.8731\n"
          ],
          "name": "stdout"
        }
      ]
    },
    {
      "cell_type": "code",
      "metadata": {
        "colab": {
          "base_uri": "https://localhost:8080/"
        },
        "id": "xbBxvgLuiy9I",
        "outputId": "e9bedf5f-af4a-4492-f950-620a0a88fb1e"
      },
      "source": [
        "print(sigmoid_RMS)"
      ],
      "execution_count": 39,
      "outputs": [
        {
          "output_type": "stream",
          "text": [
            "[0.34769245982170105, 0.8730833530426025]\n"
          ],
          "name": "stdout"
        }
      ]
    },
    {
      "cell_type": "code",
      "metadata": {
        "colab": {
          "base_uri": "https://localhost:8080/"
        },
        "id": "17_aEwhQkC0A",
        "outputId": "55e84e49-9b3f-4a6d-d43a-841be5c264e2"
      },
      "source": [
        "model = keras.Sequential()\n",
        "model.add(keras.layers.Flatten(input_shape = (28,28)))\n",
        "\n",
        "# 이번에는 relu 활성함수 적용. 이 함수는 특히 이미지에 특화.\n",
        "# 시그모이드보다 신속하게 대응한다.\n",
        "model.add(keras.layers.Dense(100, activation='relu')) \n",
        "model.add(keras.layers.Dense(10, activation='softmax'))\n",
        "model.summary()\n",
        "\n",
        "# optimizer를 명명하지 않으면, 기본적으로 RMSprop이 사용된다.\n",
        "model.compile(loss='sparse_categorical_crossentropy', metrics='accuracy')\n",
        "\n",
        "# batch_size는 기본적으로 32개\n",
        "model.fit(train_scaled, train_target, epochs=5)\n",
        "\n",
        "relu_RMS = model.evaluate(val_scaled, val_target)"
      ],
      "execution_count": 40,
      "outputs": [
        {
          "output_type": "stream",
          "text": [
            "Model: \"sequential_10\"\n",
            "_________________________________________________________________\n",
            "Layer (type)                 Output Shape              Param #   \n",
            "=================================================================\n",
            "flatten_10 (Flatten)         (None, 784)               0         \n",
            "_________________________________________________________________\n",
            "dense_20 (Dense)             (None, 100)               78500     \n",
            "_________________________________________________________________\n",
            "dense_21 (Dense)             (None, 10)                1010      \n",
            "=================================================================\n",
            "Total params: 79,510\n",
            "Trainable params: 79,510\n",
            "Non-trainable params: 0\n",
            "_________________________________________________________________\n",
            "Epoch 1/5\n",
            "1500/1500 [==============================] - 4s 2ms/step - loss: 0.6846 - accuracy: 0.7631\n",
            "Epoch 2/5\n",
            "1500/1500 [==============================] - 3s 2ms/step - loss: 0.4049 - accuracy: 0.8560\n",
            "Epoch 3/5\n",
            "1500/1500 [==============================] - 4s 3ms/step - loss: 0.3563 - accuracy: 0.8727\n",
            "Epoch 4/5\n",
            "1500/1500 [==============================] - 4s 3ms/step - loss: 0.3401 - accuracy: 0.8788\n",
            "Epoch 5/5\n",
            "1500/1500 [==============================] - 4s 3ms/step - loss: 0.3187 - accuracy: 0.8895\n",
            "375/375 [==============================] - 1s 1ms/step - loss: 0.3690 - accuracy: 0.8693\n"
          ],
          "name": "stdout"
        }
      ]
    },
    {
      "cell_type": "code",
      "metadata": {
        "colab": {
          "base_uri": "https://localhost:8080/"
        },
        "id": "L2qJ-HQAkVAu",
        "outputId": "b95dba5b-0cb0-45d3-ed7f-36e5d285de88"
      },
      "source": [
        "print(relu_RMS)"
      ],
      "execution_count": 41,
      "outputs": [
        {
          "output_type": "stream",
          "text": [
            "[0.3689519166946411, 0.8693333268165588]\n"
          ],
          "name": "stdout"
        }
      ]
    },
    {
      "cell_type": "code",
      "metadata": {
        "colab": {
          "base_uri": "https://localhost:8080/"
        },
        "id": "_rme6aCKkgDo",
        "outputId": "95394ccb-d524-4ef4-e61b-9e20d976328e"
      },
      "source": [
        "model = keras.Sequential()\n",
        "model.add(keras.layers.Flatten(input_shape = (28,28)))\n",
        "model.add(keras.layers.Dense(100, activation='relu'))\n",
        "model.add(keras.layers.Dense(10, activation='softmax'))\n",
        "\n",
        "# 최적화기로 확률적 경사 하강법 사용. momentum, \n",
        "# nesterov은 모멘텀 최적화를 2번 반복 구현하여 더 나은 성능을 제공한다.\n",
        "sgd = keras.optimizers.SGD(momentum=0.9, nesterov=True)\n",
        "model.compile(optimizer=sgd, loss='sparse_categorical_crossentropy', metrics='accuracy')\n",
        "\n",
        "model.fit(train_scaled, train_target, epochs=5)\n",
        "\n",
        "relu_SGD = model.evaluate(val_scaled, val_target)"
      ],
      "execution_count": 42,
      "outputs": [
        {
          "output_type": "stream",
          "text": [
            "Epoch 1/5\n",
            "1500/1500 [==============================] - 3s 2ms/step - loss: 0.7006 - accuracy: 0.7564\n",
            "Epoch 2/5\n",
            "1500/1500 [==============================] - 3s 2ms/step - loss: 0.4100 - accuracy: 0.8542\n",
            "Epoch 3/5\n",
            "1500/1500 [==============================] - 3s 2ms/step - loss: 0.3758 - accuracy: 0.8652\n",
            "Epoch 4/5\n",
            "1500/1500 [==============================] - 3s 2ms/step - loss: 0.3474 - accuracy: 0.8740\n",
            "Epoch 5/5\n",
            "1500/1500 [==============================] - 3s 2ms/step - loss: 0.3250 - accuracy: 0.8834\n",
            "375/375 [==============================] - 1s 1ms/step - loss: 0.3476 - accuracy: 0.8715\n"
          ],
          "name": "stdout"
        }
      ]
    },
    {
      "cell_type": "code",
      "metadata": {
        "colab": {
          "base_uri": "https://localhost:8080/"
        },
        "id": "i8kLd5qXlNsx",
        "outputId": "bb6d35ff-0def-4376-e4ad-4c7e745f9e96"
      },
      "source": [
        "print(relu_SGD)"
      ],
      "execution_count": 43,
      "outputs": [
        {
          "output_type": "stream",
          "text": [
            "[0.34756413102149963, 0.8715000152587891]\n"
          ],
          "name": "stdout"
        }
      ]
    },
    {
      "cell_type": "code",
      "metadata": {
        "colab": {
          "base_uri": "https://localhost:8080/"
        },
        "id": "pqCmKTTVlZhf",
        "outputId": "1f5f9494-51d9-4ae7-e99e-c020dc231f0b"
      },
      "source": [
        "model = keras.Sequential()\n",
        "model.add(keras.layers.Flatten(input_shape = (28,28)))\n",
        "model.add(keras.layers.Dense(100, activation='relu'))\n",
        "model.add(keras.layers.Dense(10, activation='softmax'))\n",
        "\n",
        "# Adam 최적화기는 모멘텀 최적화와 RMSprop(적응적 학습률 적용: 학습률을 최적점 가까이 갈 수록 낮춘다 == Adagrad)의 장점을 모두 가지고 있다.\n",
        "model.compile(optimizer='adam', loss='sparse_categorical_crossentropy', metrics='accuracy')\n",
        "\n",
        "model.fit(train_scaled, train_target, epochs=5)\n",
        "\n",
        "relu_Adam = model.evaluate(val_scaled, val_target)"
      ],
      "execution_count": 44,
      "outputs": [
        {
          "output_type": "stream",
          "text": [
            "Epoch 1/5\n",
            "1500/1500 [==============================] - 4s 2ms/step - loss: 0.6746 - accuracy: 0.7609\n",
            "Epoch 2/5\n",
            "1500/1500 [==============================] - 3s 2ms/step - loss: 0.4012 - accuracy: 0.8582\n",
            "Epoch 3/5\n",
            "1500/1500 [==============================] - 3s 2ms/step - loss: 0.3614 - accuracy: 0.8685\n",
            "Epoch 4/5\n",
            "1500/1500 [==============================] - 3s 2ms/step - loss: 0.3311 - accuracy: 0.8795\n",
            "Epoch 5/5\n",
            "1500/1500 [==============================] - 3s 2ms/step - loss: 0.3117 - accuracy: 0.8840\n",
            "375/375 [==============================] - 1s 1ms/step - loss: 0.3522 - accuracy: 0.8695\n"
          ],
          "name": "stdout"
        }
      ]
    },
    {
      "cell_type": "code",
      "metadata": {
        "colab": {
          "base_uri": "https://localhost:8080/"
        },
        "id": "dL0S0cuDlpA2",
        "outputId": "5cae63d2-f1da-424c-8025-9b5d0848ad9c"
      },
      "source": [
        "print(relu_Adam)"
      ],
      "execution_count": 45,
      "outputs": [
        {
          "output_type": "stream",
          "text": [
            "[0.3521851897239685, 0.8694999814033508]\n"
          ],
          "name": "stdout"
        }
      ]
    },
    {
      "cell_type": "code",
      "metadata": {
        "colab": {
          "base_uri": "https://localhost:8080/",
          "height": 266
        },
        "id": "oVSXxXPll9js",
        "outputId": "b106244e-90c4-4750-8102-a5bdc3bf930b"
      },
      "source": [
        "import matplotlib.pyplot as plt\n",
        "\n",
        "plt.bar(range(4), [sigmoid_RMS[1], relu_RMS[1], relu_SGD[1], relu_Adam[1]])\n",
        "plt.xticks(range(4), ['sigmoid_RMS', 'relu_RMS', 'relu_SGD', 'relu_Adam'])\n",
        "plt.show()\n",
        "\n",
        "# 근데 무엇이... 4개의 정확도가 모두 똑같이 나왔다."
      ],
      "execution_count": 46,
      "outputs": [
        {
          "output_type": "display_data",
          "data": {
            "image/png": "[encoded data removed]",
            "text/plain": [
              "<Figure size 432x288 with 1 Axes>"
            ]
          },
          "metadata": {
            "tags": [],
            "needs_background": "light"
          }
        }
      ]
    },
    {
      "cell_type": "code",
      "metadata": {
        "id": "P3Gx5TgdmhJs"
      },
      "source": [
        ""
      ],
      "execution_count": 46,
      "outputs": []
    }
  ]
}