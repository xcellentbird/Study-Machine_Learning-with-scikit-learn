{
 "cells": [
  {
   "cell_type": "code",
   "execution_count": 1,
   "id": "d2245b23",
   "metadata": {},
   "outputs": [],
   "source": [
    "import numpy as np"
   ]
  },
  {
   "cell_type": "markdown",
   "id": "8df5ba56",
   "metadata": {},
   "source": [
    "Ax = b에서 b에 대한 x를 구할 때, 왜 역행렬이 아닌 LU분해 방법을 쓸까?\n",
    "1. 연산량이 1/3배 적습니다.\n",
    "2. A의 요소가 0으로 채워지는 만큼 L과 U도 sparse(0으로 채워지는)합니다. 반대로 역행렬은 상관없이 dense합니다. 이것은 L과 U를 저장하는 memory와 A역행렬을 저장하는 memory가 차이가 난다는 것을 알 수 있습니다.\n",
    "\n",
    "요약, LU분해가 역행렬보다 빠르고 memory도 적게 사용된다."
   ]
  },
  {
   "cell_type": "code",
   "execution_count": 8,
   "id": "45302860",
   "metadata": {},
   "outputs": [
    {
     "data": {
      "text/plain": [
       "array([[ 3, -7, -2,  2],\n",
       "       [-3,  5,  1,  0],\n",
       "       [ 6, -4,  0, -5],\n",
       "       [-9,  5, -5, 12]])"
      ]
     },
     "execution_count": 8,
     "metadata": {},
     "output_type": "execute_result"
    }
   ],
   "source": [
    "A = [[3, -7, -2, 2],[-3, 5, 1, 0],[6,-4,0,-5],[-9,5,-5,12]]\n",
    "A = np.array(A)\n",
    "A"
   ]
  },
  {
   "cell_type": "markdown",
   "id": "e92e82eb",
   "metadata": {},
   "source": [
    "LU 분해:\n",
    "L(lower triangular mat) 행렬은 하삼각행렬입니다.\n",
    "U(upper triangular mat) 행렬은 상삼각행렬입니다.\n",
    "\n",
    "1단계\n",
    "먼저 L의 1열에는 분해하고자하는 행렬 A의 1열에서 (1, 1)의 스케일 만큼 나눠서 대입해줍니다. (1,1)요소는 1이 되어야합니다.\n",
    "그리고 대각 위치의 요소들은 모두 1로 초기화 시켜줍니다.\n",
    "\n",
    "L:\n",
    "[ 3/3,  0,  0,  0],\n",
    "[-3/3,  0,  0,  0],\n",
    "[ 6/3,  0,  0,  0],\n",
    "[-9/3,  0 , 0,  0]]\n",
    "=>\n",
    "[ 1,  0,  0,  0],\n",
    "[-1,  0,  0,  0],\n",
    "[ 2,  0,  0,  0],\n",
    "[-3,  0 , 0,  0]]\n",
    "=>\n",
    "[ 1,  0,  0,  0],\n",
    "[-1,  1,  0,  0],\n",
    "[ 2,  0,  1,  0],\n",
    "[-3,  0 , 0,  1]]\n",
    "\n",
    "2단계\n",
    "U의 1행에는 A의 1행의 요소들을 그대로 가져와줍니다.\n",
    "U:\n",
    "[ 3, -7, -2,  2],\n",
    "[ 0,  0,  0,  0],\n",
    "[ 0,  0,  0,  0],\n",
    "[ 0,  0,  0,  0]]\n",
    "\n",
    "3단계\n",
    "자, 이제 L과 U, A를 이용하여, 연립방정식을 세우고 나머지 요소를 구하면 됩니다!\n",
    "\n",
    "[ 3, -7, -2,  2],\n",
    "[-3,  5,  1,  0],\n",
    "[ 6, -4,  0, -5],\n",
    "[-9,  5, -5, 12]]\n",
    "\n",
    "=\n",
    "\n",
    "[ 1,  0,  0,  0],\n",
    "[-1,  1,  0,  0],\n",
    "[ 2, l1,  1,  0],\n",
    "[-3, l2, l3,  1]]\n",
    "matmul\n",
    "[ 3, -7, -2,  2],\n",
    "[ 0, u1, u2, u3],\n",
    "[ 0,  0, u4, u5],\n",
    "[ 0,  0,  0, u6]]"
   ]
  },
  {
   "cell_type": "code",
   "execution_count": 9,
   "id": "09ca37c6",
   "metadata": {},
   "outputs": [
    {
     "data": {
      "text/plain": [
       "array([[ 3, -7, -2,  2],\n",
       "       [-3,  5,  1,  0],\n",
       "       [ 6, -4,  0, -5],\n",
       "       [-9,  5, -5, 12]])"
      ]
     },
     "execution_count": 9,
     "metadata": {},
     "output_type": "execute_result"
    }
   ],
   "source": [
    "L = np.array([[1, 0, 0, 0],[-1, 1, 0, 0,], [2, -5, 1, 0], [-3, 8, 3, 1]])\n",
    "U = np.array([[3, -7, -2, 2],[0, -2, -1, 2], [0, 0, -1, 1], [0, 0, 0, -1]])\n",
    "\n",
    "#확인\n",
    "LU_check = L @ U\n",
    "LU_check"
   ]
  },
  {
   "cell_type": "code",
   "execution_count": 10,
   "id": "525dcbbc",
   "metadata": {},
   "outputs": [
    {
     "data": {
      "text/plain": [
       "True"
      ]
     },
     "execution_count": 10,
     "metadata": {},
     "output_type": "execute_result"
    }
   ],
   "source": [
    "np.array_equal(LU_check, A)"
   ]
  },
  {
   "cell_type": "code",
   "execution_count": 11,
   "id": "73a1d29b",
   "metadata": {},
   "outputs": [
    {
     "data": {
      "text/plain": [
       "array([[ True,  True,  True,  True],\n",
       "       [ True,  True,  True,  True],\n",
       "       [ True,  True,  True,  True],\n",
       "       [ True,  True,  True,  True]])"
      ]
     },
     "execution_count": 11,
     "metadata": {},
     "output_type": "execute_result"
    }
   ],
   "source": [
    "A == LU_check"
   ]
  },
  {
   "cell_type": "code",
   "execution_count": 12,
   "id": "770ee732",
   "metadata": {},
   "outputs": [
    {
     "data": {
      "text/plain": [
       "True"
      ]
     },
     "execution_count": 12,
     "metadata": {},
     "output_type": "execute_result"
    }
   ],
   "source": [
    "(A == LU_check).min()"
   ]
  }
 ],
 "metadata": {
  "kernelspec": {
   "display_name": "Python 3",
   "language": "python",
   "name": "python3"
  },
  "language_info": {
   "codemirror_mode": {
    "name": "ipython",
    "version": 3
   },
   "file_extension": ".py",
   "mimetype": "text/x-python",
   "name": "python",
   "nbconvert_exporter": "python",
   "pygments_lexer": "ipython3",
   "version": "3.9.4"
  }
 },
 "nbformat": 4,
 "nbformat_minor": 5
}
