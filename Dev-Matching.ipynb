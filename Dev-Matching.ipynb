{
 "cells": [
  {
   "cell_type": "code",
   "execution_count": 1,
   "id": "d441ba91",
   "metadata": {},
   "outputs": [],
   "source": [
    "import pandas as pd\n",
    "import numpy as np\n",
    "import os\n",
    "import matplotlib.pyplot as plt\n",
    "from PIL import Image\n",
    "from torchvision import transforms, datasets\n",
    "from torch.utils import data\n",
    "from sklearn.model_selection import StratifiedShuffleSplit\n",
    "from torch.optim import Adam\n",
    "from torch.optim.lr_scheduler import StepLR\n",
    "import torch.nn as nn\n",
    "import timm\n",
    "import torch\n",
    "\n",
    "DATA_PATH = os.path.join(os.getcwd(), 'ML_Data')\n",
    "LABEL_DICT = {'dog':0, 'elephant':1, 'giraffe':2,'guitar':3,'horse':4,'house':5,'person':6}\n",
    "LABEL_DICT2 = {'dog':0, 'person':1, 'giraffe':2, 'guitar':3, 'house':4, 'horse':5, 'elephant':6}\n",
    "TO_LABEL = {v: k for k, v in LABEL_DICT.items()}\n",
    "num_classes = 7\n",
    "batch_size = 32\n",
    "num_epochs = 10\n",
    "base_lr = 0.0001\n",
    "valid_size = 0.2"
   ]
  },
  {
   "cell_type": "markdown",
   "id": "d8e80813",
   "metadata": {},
   "source": [
    "#### 학습 파일 정리"
   ]
  },
  {
   "cell_type": "code",
   "execution_count": 2,
   "id": "a3773c01",
   "metadata": {},
   "outputs": [],
   "source": [
    "train_dir = os.path.join(DATA_PATH, 'train')\n",
    "new_train_dir = os.path.join(train_dir, 'train')\n",
    "\n",
    "# train 파일을 만들어 train데이터를 모두 모아넣습니다.\n",
    "if not os.path.exists(new_train_dir):\n",
    "    import shutil\n",
    "    \n",
    "    label_dirs = os.listdir(train_dir)\n",
    "    os.makedirs(new_train_dir)\n",
    "    for label_dir in label_dirs:\n",
    "        if label_dir[0] != '.':\n",
    "            now_dir = os.path.join(train_dir, label_dir)\n",
    "            img_list = os.listdir(now_dir)\n",
    "            \n",
    "            for jpg_file in img_list:\n",
    "                shutil.copy(os.path.join(now_dir, jpg_file), new_train_dir)\n",
    "                \n",
    "                new_name = label_dir + '_' + jpg_file.split('_')[1]\n",
    "                os.rename(os.path.join(new_train_dir, jpg_file), os.path.join(new_train_dir, new_name))"
   ]
  },
  {
   "cell_type": "code",
   "execution_count": 3,
   "id": "87e74c96",
   "metadata": {},
   "outputs": [],
   "source": [
    "def get_label(file_name):\n",
    "    return file_name.split('_')[0]"
   ]
  },
  {
   "cell_type": "code",
   "execution_count": 4,
   "id": "d421af1e",
   "metadata": {},
   "outputs": [],
   "source": [
    "# 학습 데이터 전처리(normalization, random_crop)\n",
    "def get_transform(random_crop=True):\n",
    "    transform = []\n",
    "    transform.append(transforms.Resize(256))\n",
    "    if random_crop:\n",
    "        transform.append(transforms.RandomResizedCrop(224))\n",
    "        transform.append(transforms.RandomHorizontalFlip())\n",
    "    else:\n",
    "        transform.append(transforms.CenterCrop(224))\n",
    "    transform.append(transforms.ToTensor())\n",
    "    mean = [x / 255.0 for x in [125.3, 123.0, 113.9]]\n",
    "    std = [x / 255.0 for x in [63.0, 62.1, 66.7]]\n",
    "    transform.append(transforms.Normalize(mean= mean, std= std))\n",
    "    return transforms.Compose(transform)"
   ]
  },
  {
   "cell_type": "code",
   "execution_count": 5,
   "id": "eb2cb18d",
   "metadata": {},
   "outputs": [],
   "source": [
    "# 이미지를 불러오는 함수입니다\n",
    "def img_loader(path):\n",
    "    try:\n",
    "        with open(path, 'rb') as f:\n",
    "            img = Image.open(f)\n",
    "            return img.convert('RGB')\n",
    "    except FileNotFoundError as e:\n",
    "        raise FileNotFoundError(e)"
   ]
  },
  {
   "cell_type": "code",
   "execution_count": 6,
   "id": "f9959350",
   "metadata": {},
   "outputs": [],
   "source": [
    "# 학습, 검증 데이터셋입니다\n",
    "class TrainDataset(data.Dataset):\n",
    "    def __init__(self, valid_split= 0.2, random_crop=True):\n",
    "        self.get_mode = 'train'\n",
    "        self.path = os.path.join(new_train_dir)\n",
    "        self.transform = get_transform(random_crop = random_crop)\n",
    "\n",
    "        self.data_names = os.listdir(self.path)\n",
    "        self.labels = [get_label(jpg) for jpg in self.data_names]\n",
    "\n",
    "        # 계층적 샘플링을 통해 균형있게 학습, 검증 데이터로 나눕니다.\n",
    "        split = StratifiedShuffleSplit(n_splits=1, test_size = valid_split, random_state= 99)\n",
    "        self.train_data, self.train_label = [], []\n",
    "        self.valid_data, self.valid_label = [], []\n",
    "        for train_idx, valid_idx in split.split(pd.Series(self.data_names), self.labels):\n",
    "            self.train_data = list(map(lambda idx: self.data_names[idx], train_idx))\n",
    "            self.train_label = list(map(lambda idx: self.labels[idx], train_idx))\n",
    "            self.valid_data = list(map(lambda idx: self.data_names[idx], valid_idx))\n",
    "            self.valid_label = list(map(lambda idx: self.labels[idx], valid_idx))\n",
    "    \n",
    "    def change_get_mode(self,mode='train'):\n",
    "        self.get_mode = mode\n",
    "\n",
    "    def __getitem__(self, index):\n",
    "        # 학습, 검증 모드에 따라\n",
    "        if self.get_mode == 'train':\n",
    "            file_name, target = self.train_data[index], self.train_label[index]\n",
    "        else:\n",
    "            file_name, target = self.valid_data[index], self.valid_label[index]\n",
    "        path = os.path.join(new_train_dir, file_name)\n",
    "        \n",
    "        img = img_loader(path) # 이미지 로딩\n",
    "        sample = self.transform(img) # 이미지 전처리\n",
    "        \n",
    "        return sample, target\n",
    "    \n",
    "    def __len__(self):\n",
    "        if self.get_mode == 'train':\n",
    "            return len(self.train_data)\n",
    "        else:\n",
    "            return len(self.valid_data)"
   ]
  },
  {
   "cell_type": "code",
   "execution_count": 7,
   "id": "486c09ac",
   "metadata": {},
   "outputs": [],
   "source": [
    "# 테스트 데이터셋입니다\n",
    "class TestDataset(data.Dataset):\n",
    "    def __init__(self):\n",
    "        self.path = os.path.join(DATA_PATH, 'test', '0')\n",
    "        self.transform = get_transform(random_crop = False)\n",
    "        self.file_names = os.listdir(self.path)\n",
    "\n",
    "    def __getitem__(self, index):\n",
    "        path = os.path.join(self.path, self.file_names[index])\n",
    "        img = img_loader(path)\n",
    "        sample = self.transform(img)\n",
    "\n",
    "        return sample\n",
    "    \n",
    "    def __len__(self):\n",
    "        return len(self.file_names)"
   ]
  },
  {
   "cell_type": "markdown",
   "id": "faedd275",
   "metadata": {},
   "source": [
    "모델은 전처리된 efficientnet v2를 이용하여 분류기만 전이 학습을 진행합니다.  \n",
    "손실 함수: cross entropy loss을 사용했습니다.  \n",
    "최적화 함수: Adam을 이용하여 각 파라미터마다 다른 크기로 업데이트합니다.  \n",
    "스케쥴러: StepLR를 이용하여 학습률을 관리합니다. "
   ]
  },
  {
   "cell_type": "code",
   "execution_count": 8,
   "id": "5ac9e5a3",
   "metadata": {},
   "outputs": [],
   "source": [
    "model = timm.create_model('tf_efficientnetv2_b3', pretrained=True)\n",
    "\n",
    "num_ftrs = model.classifier.in_features\n",
    "model.classifier = nn.Linear(in_features=num_ftrs, out_features=num_classes)\n",
    "\n",
    "loss_fn = nn.CrossEntropyLoss()\n",
    "optimizer = Adam([param for param in model.parameters() if param.requires_grad], lr =base_lr, weight_decay =1e-4)\n",
    "scheduler = StepLR(optimizer, step_size=3, gamma=0.1)"
   ]
  },
  {
   "cell_type": "code",
   "execution_count": 9,
   "id": "8a011886",
   "metadata": {},
   "outputs": [],
   "source": [
    "def valid_fit(loaded_dataset, model, loss_fn):\n",
    "    for iter_, (data, label) in enumerate(loaded_dataset):\n",
    "        print(f'\\r{iter_} valid', end='')\n",
    "        val_pred = model(data)\n",
    "        val_loss = loss_fn(val_pred, torch.tensor(list(map(lambda x: LABEL_DICT[x], label))))\n",
    "        return val_loss"
   ]
  },
  {
   "cell_type": "code",
   "execution_count": null,
   "id": "7cfc9346",
   "metadata": {},
   "outputs": [
    {
     "name": "stdout",
     "output_type": "stream",
     "text": [
      " ------ng... 903\n",
      "Epoch [1/10] => loss: 1.2941467761993408, val_loss:1.2395766973495483\n",
      " ------ng... 1806\n",
      "Epoch [2/10] => loss: 0.5186840891838074, val_loss:0.8862184882164001\n",
      " ------ng... 2709\n",
      "Epoch [3/10] => loss: 0.6859062314033508, val_loss:0.48008179664611816\n",
      " ------ng... 3612\n",
      "Epoch [4/10] => loss: 0.40599870681762695, val_loss:0.6465213894844055\n",
      " ------ng... 4515\n",
      "Epoch [5/10] => loss: 0.6797652244567871, val_loss:0.5857230424880981\n",
      " ------ng... 5418\n",
      "Epoch [6/10] => loss: 0.3869991600513458, val_loss:0.2531175911426544\n",
      " training... 5419"
     ]
    }
   ],
   "source": [
    "dataset = TrainDataset(valid_split=valid_size)\n",
    "\n",
    "loaded_dataset = data.DataLoader(dataset=dataset, batch_size=batch_size, shuffle=True)\n",
    "\n",
    "global_iter = 0\n",
    "loss = 0\n",
    "for epoch in range(num_epochs):\n",
    "    model.train()\n",
    "    dataset.change_get_mode('train')\n",
    "    for iter_, (data, label) in enumerate(loaded_dataset):\n",
    "        global_iter += iter_\n",
    "        print(f'\\r training... {global_iter}', end='')\n",
    "        pred = model(data)\n",
    "        loss = loss_fn(pred, torch.tensor(list(map(lambda x: LABEL_DICT[x], label))))\n",
    "        \n",
    "        optimizer.zero_grad()\n",
    "        loss.backward()\n",
    "        optimizer.step()\n",
    "        \n",
    "    dataset.change_get_mode('valid')\n",
    "    val_loss = valid_fit(loaded_dataset, model, loss_fn)\n",
    "    \"\"\"\n",
    "    for iter_, (data, label) in enumerate(loaded_dataset):\n",
    "        global_iter += iter_\n",
    "        \n",
    "        val_pred = model(data)\n",
    "        val_loss = loss_fn(val_pred, torch.tensor(list(map(lambda x: LABEL_DICT[x], label))))\n",
    "    \"\"\"\n",
    "    print(f'\\r ------')\n",
    "    print(f\"Epoch [{epoch+1}/{num_epochs}] => loss: {loss}, val_loss:{val_loss}\")\n",
    "    scheduler.step()\n",
    "    \n",
    "    torch.save({\n",
    "            'epoch': epoch,\n",
    "            'model_state_dict': model.state_dict(),\n",
    "            'optimizer_state_dict': optimizer.state_dict(),\n",
    "            'loss': loss,\n",
    "            }, DATA_PATH + '/model'+str(epoch)+'.pt')"
   ]
  },
  {
   "cell_type": "code",
   "execution_count": null,
   "id": "e48f818c",
   "metadata": {},
   "outputs": [],
   "source": [
    "loaded_test_dataset = data.DataLoader(dataset=TestDataset(), batch_size=batch_size, shuffle=False)\n",
    "model.eval()"
   ]
  },
  {
   "cell_type": "code",
   "execution_count": null,
   "id": "6aeebccf",
   "metadata": {},
   "outputs": [],
   "source": [
    "tf = transforms.ToPILImage()"
   ]
  },
  {
   "cell_type": "code",
   "execution_count": null,
   "id": "4947a30f",
   "metadata": {},
   "outputs": [],
   "source": [
    "answers = []\n",
    "for i, data in enumerate(loaded_test_dataset):\n",
    "    fc0 = model(data)\n",
    "    fc = fc0.squeeze().detach().cpu().numpy()\n",
    "    \n",
    "    for answer in fc:\n",
    "        answers.append(np.argmax(answer))\n",
    "    \n",
    "    if i == 0:\n",
    "        print(len(data))\n",
    "        for i in range(3):\n",
    "            t = tf(data[i])\n",
    "            t.show()\n",
    "            print(fc0[i])\n",
    "            print(fc[i])\n",
    "            mx = np.argmax(fc[i])\n",
    "            print(mx)\n",
    "            print(TO_LABEL[mx])\n",
    "    "
   ]
  },
  {
   "cell_type": "code",
   "execution_count": null,
   "id": "64128f6c",
   "metadata": {},
   "outputs": [],
   "source": [
    "pdcsv = pd.DataFrame(pd.Series(answers), columns=['answer value'])\n",
    "pdcsv.to_csv(DATA_PATH + '/test_answer.csv')"
   ]
  }
 ],
 "metadata": {
  "kernelspec": {
   "display_name": "Python 3",
   "language": "python",
   "name": "python3"
  },
  "language_info": {
   "codemirror_mode": {
    "name": "ipython",
    "version": 3
   },
   "file_extension": ".py",
   "mimetype": "text/x-python",
   "name": "python",
   "nbconvert_exporter": "python",
   "pygments_lexer": "ipython3",
   "version": "3.9.4"
  }
 },
 "nbformat": 4,
 "nbformat_minor": 5
}
