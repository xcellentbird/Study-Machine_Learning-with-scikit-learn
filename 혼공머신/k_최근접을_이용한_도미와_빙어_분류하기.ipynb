{
  "nbformat": 4,
  "nbformat_minor": 0,
  "metadata": {
    "colab": {
      "name": "k-최근접을 이용한 도미와 빙어 분류하기.ipynb",
      "provenance": [],
      "collapsed_sections": [],
      "authorship_tag": "ABX9TyPxQxW8jhAVHX4e4X51WBja",
      "include_colab_link": true
    },
    "kernelspec": {
      "name": "python3",
      "display_name": "Python 3"
    },
    "language_info": {
      "name": "python"
    }
  },
  "cells": [
    {
      "cell_type": "markdown",
      "metadata": {
        "id": "view-in-github",
        "colab_type": "text"
      },
      "source": [
        "<a href=\"https://colab.research.google.com/github/xcellentbird/Deep_Learning/blob/main/%ED%98%BC%EA%B3%B5%EB%A8%B8%EC%8B%A0/k_%EC%B5%9C%EA%B7%BC%EC%A0%91%EC%9D%84_%EC%9D%B4%EC%9A%A9%ED%95%9C_%EB%8F%84%EB%AF%B8%EC%99%80_%EB%B9%99%EC%96%B4_%EB%B6%84%EB%A5%98%ED%95%98%EA%B8%B0.ipynb\" target=\"_parent\"><img src=\"https://colab.research.google.com/assets/colab-badge.svg\" alt=\"Open In Colab\"/></a>"
      ]
    },
    {
      "cell_type": "code",
      "metadata": {
        "id": "zzNdoPVk3dbP"
      },
      "source": [
        "fish_length = [25.4, 26.3, 26.5, 29.0, 29.0, 29.7, 29.7, 30.0, 30.0, 30.7, 31.0, 31.0, \n",
        "                31.5, 32.0, 32.0, 32.0, 33.0, 33.0, 33.5, 33.5, 34.0, 34.0, 34.5, 35.0, \n",
        "                35.0, 35.0, 35.0, 36.0, 36.0, 37.0, 38.5, 38.5, 39.5, 41.0, 41.0, 9.8, \n",
        "                10.5, 10.6, 11.0, 11.2, 11.3, 11.8, 11.8, 12.0, 12.2, 12.4, 13.0, 14.3, 15.0]\n",
        "fish_weight = [242.0, 290.0, 340.0, 363.0, 430.0, 450.0, 500.0, 390.0, 450.0, 500.0, 475.0, 500.0, \n",
        "                500.0, 340.0, 600.0, 600.0, 700.0, 700.0, 610.0, 650.0, 575.0, 685.0, 620.0, 680.0, \n",
        "                700.0, 725.0, 720.0, 714.0, 850.0, 1000.0, 920.0, 955.0, 925.0, 975.0, 950.0, 6.7, \n",
        "                7.5, 7.0, 9.7, 9.8, 8.7, 10.0, 9.9, 9.8, 12.2, 13.4, 12.2, 19.7, 19.9]"
      ],
      "execution_count": 2,
      "outputs": []
    },
    {
      "cell_type": "code",
      "metadata": {
        "id": "d6Rw9eeiifrm"
      },
      "source": [
        "import numpy as np\n",
        "\n",
        "# 물고기 길이와 무게를 짝지어 객체로 만든다\n",
        "fish_data = np.column_stack((fish_length, fish_weight))\n",
        "\n",
        "# 물고기 타겟값. concatenate는 np행렬을 잇는다. 1\n",
        "fish_target = np.concatenate((np.ones(35), np.zeros(14)))"
      ],
      "execution_count": 3,
      "outputs": []
    },
    {
      "cell_type": "code",
      "metadata": {
        "colab": {
          "base_uri": "https://localhost:8080/"
        },
        "id": "d_-f5DwCs1kw",
        "outputId": "1e730605-dd36-499b-db60-51388fa040fa"
      },
      "source": [
        "from sklearn.model_selection import train_test_split\n",
        "\n",
        "# 데이터를 훈련셋과 테스트셋으로 나누다. random_state는 42번\n",
        "train_input, test_input, train_target, test_target = train_test_split(fish_data, fish_target, random_state = 42)\n",
        "\n",
        "# 49행 2열(49 객체, 2개의 속성)\n",
        "print(\"원 데이터셋: \", fish_data.shape)\n",
        "print(\"훈련셋: \", train_input.shape, train_target.shape)\n",
        "print(\"테스트셋: \", test_input.shape, test_target.shape)"
      ],
      "execution_count": 4,
      "outputs": [
        {
          "output_type": "stream",
          "text": [
            "원 데이터셋:  (49, 2)\n",
            "훈련셋:  (36, 2) (36,)\n",
            "테스트셋:  (13, 2) (13,)\n"
          ],
          "name": "stdout"
        }
      ]
    },
    {
      "cell_type": "code",
      "metadata": {
        "colab": {
          "base_uri": "https://localhost:8080/",
          "height": 279
        },
        "id": "ZDWFY66dtncl",
        "outputId": "4da93dd1-32a3-4ce9-c2c1-6c773c6d1733"
      },
      "source": [
        "import matplotlib.pyplot as plt\n",
        "\n",
        "# axis를 0으로 설정해야 각 열의 통계 값을 계산한다.\n",
        "mean = np.mean(train_input, axis=0)\n",
        "std = np.std(train_input, axis=0)\n",
        "\n",
        "# 각 특성(여기에서는 length, weight)의 스케일이 다르기 때문에 이를 평균을 빼고 분산으로 나눠줘야한다.\n",
        "train_scaled = (train_input - mean) / std\n",
        "\n",
        "new_data = ([25, 150] - mean) /std\n",
        "plt.scatter(train_scaled[:, 0], train_scaled[:, 1])\n",
        "plt.scatter(new_data[0], new_data[1], marker='*')\n",
        "plt.xlabel('length')\n",
        "plt.ylabel('weight')\n",
        "plt.show()"
      ],
      "execution_count": 6,
      "outputs": [
        {
          "output_type": "display_data",
          "data": {
            "image/png": "[encoded data removed]",
            "text/plain": [
              "<Figure size 432x288 with 1 Axes>"
            ]
          },
          "metadata": {
            "tags": [],
            "needs_background": "light"
          }
        }
      ]
    },
    {
      "cell_type": "code",
      "metadata": {
        "colab": {
          "base_uri": "https://localhost:8080/"
        },
        "id": "LpuzKcAHzg7E",
        "outputId": "a44bdafe-0014-47d0-b93c-e46b30faa371"
      },
      "source": [
        "from sklearn.neighbors import KNeighborsClassifier\n",
        "\n",
        "kn = KNeighborsClassifier()\n",
        "\n",
        "# 스케일된 학습 데이터를 k-최근접 모델에 학습시킨다.\n",
        "kn.fit(train_scaled, train_target)\n",
        "\n",
        "# 테스트셋 또한 스케일 과정을 거친다\n",
        "test_scaled = (test_input - mean) / std\n",
        "\n",
        "# 테스트 결과 출력\n",
        "kn.score(test_scaled, test_target)"
      ],
      "execution_count": 7,
      "outputs": [
        {
          "output_type": "execute_result",
          "data": {
            "text/plain": [
              "1.0"
            ]
          },
          "metadata": {
            "tags": []
          },
          "execution_count": 7
        }
      ]
    },
    {
      "cell_type": "code",
      "metadata": {
        "colab": {
          "base_uri": "https://localhost:8080/"
        },
        "id": "YyyopxuB05RJ",
        "outputId": "5480fbf5-1172-406a-8495-ad9d31c2c43b"
      },
      "source": [
        "print(kn.predict([new_data]))"
      ],
      "execution_count": 8,
      "outputs": [
        {
          "output_type": "stream",
          "text": [
            "[1.]\n"
          ],
          "name": "stdout"
        }
      ]
    },
    {
      "cell_type": "code",
      "metadata": {
        "colab": {
          "base_uri": "https://localhost:8080/",
          "height": 279
        },
        "id": "vT2f1f3q1KB_",
        "outputId": "0e1f0d97-0013-485e-b91e-4e21e0de9dd3"
      },
      "source": [
        "distances, indexes = kn.kneighbors([new_data])\n",
        "plt.scatter(train_scaled[:,0], train_scaled[:,1])\n",
        "plt.scatter(new_data[0], new_data[1], marker='*')\n",
        "plt.scatter(train_scaled[indexes, 0], train_scaled[indexes, 1], marker='D')\n",
        "plt.xlabel('lenght')\n",
        "plt.ylabel('weight')\n",
        "plt.show()"
      ],
      "execution_count": 9,
      "outputs": [
        {
          "output_type": "display_data",
          "data": {
            "image/png": "[encoded data removed]",
            "text/plain": [
              "<Figure size 432x288 with 1 Axes>"
            ]
          },
          "metadata": {
            "tags": [],
            "needs_background": "light"
          }
        }
      ]
    },
    {
      "cell_type": "code",
      "metadata": {
        "id": "GLGHUinq1qyy"
      },
      "source": [
        ""
      ],
      "execution_count": null,
      "outputs": []
    }
  ]
}